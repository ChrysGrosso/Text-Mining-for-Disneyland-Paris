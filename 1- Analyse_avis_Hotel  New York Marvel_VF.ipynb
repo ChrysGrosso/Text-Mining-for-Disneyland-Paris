{
 "cells": [
  {
   "cell_type": "markdown",
   "id": "5ccdbb9a",
   "metadata": {},
   "source": [
    "# HOTELS - Analyse Verbatim-clients déposés sur Trip Advisor "
   ]
  },
  {
   "cell_type": "markdown",
   "id": "77f209db",
   "metadata": {},
   "source": [
    "(1) Préparation du répertoire et des principaux packages"
   ]
  },
  {
   "cell_type": "code",
   "execution_count": 1,
   "id": "1d13fc84",
   "metadata": {},
   "outputs": [],
   "source": [
    "import os\n",
    "os.chdir(\"C:/Disney\")"
   ]
  },
  {
   "cell_type": "code",
   "execution_count": 2,
   "id": "ea67d7e8",
   "metadata": {},
   "outputs": [
    {
     "name": "stderr",
     "output_type": "stream",
     "text": [
      "[nltk_data] Downloading package wordnet to\n",
      "[nltk_data]     C:\\Users\\chrys\\AppData\\Roaming\\nltk_data...\n",
      "[nltk_data]   Package wordnet is already up-to-date!\n"
     ]
    },
    {
     "name": "stdout",
     "output_type": "stream",
     "text": [
      "4.1.2\n"
     ]
    }
   ],
   "source": [
    "import pandas as pd\n",
    "import numpy as np\n",
    "import matplotlib.pyplot as plt\n",
    "import nltk\n",
    "nltk.download('wordnet')\n",
    "import gensim\n",
    "print(gensim.__version__)"
   ]
  },
  {
   "cell_type": "markdown",
   "id": "8bb14666",
   "metadata": {},
   "source": [
    "# I. Analyses préparatoires avec les avis sur l'hôtel Marvel"
   ]
  },
  {
   "cell_type": "markdown",
   "id": "c17964ca",
   "metadata": {},
   "source": [
    "**Objectif : test& learn** -> réaliser les premières analyses sur un petit fichier comprenant uniquement des avis récents avant de généraliser sur les autres hôtels."
   ]
  },
  {
   "cell_type": "markdown",
   "id": "9631a392",
   "metadata": {},
   "source": [
    "**(1) Premières visualisations du fichier**\n",
    "préalablement traduit et nettoyé avec les dictionnaires stop of words de la librairie ntlk (cf.notre fonction de nettoyage)"
   ]
  },
  {
   "cell_type": "code",
   "execution_count": 3,
   "id": "0dafc352",
   "metadata": {},
   "outputs": [
    {
     "name": "stdout",
     "output_type": "stream",
     "text": [
      "<class 'pandas.core.frame.DataFrame'>\n",
      "RangeIndex: 440 entries, 0 to 439\n",
      "Data columns (total 8 columns):\n",
      " #   Column             Non-Null Count  Dtype \n",
      "---  ------             --------------  ----- \n",
      " 0   titre_commentaire  440 non-null    object\n",
      " 1   commentaire        440 non-null    object\n",
      " 2   Date               440 non-null    object\n",
      " 3   Ville              440 non-null    object\n",
      " 4   Pays               440 non-null    object\n",
      " 5   Note               440 non-null    int64 \n",
      " 6   Photo              440 non-null    object\n",
      " 7   langue             440 non-null    object\n",
      "dtypes: int64(1), object(7)\n",
      "memory usage: 27.6+ KB\n"
     ]
    }
   ],
   "source": [
    "marvel=pd.read_csv(\"hotel_marvel_clean.csv\", sep=\",\")\n",
    "marvel.info( ) #439 avis"
   ]
  },
  {
   "cell_type": "code",
   "execution_count": 4,
   "id": "fcef53ce",
   "metadata": {},
   "outputs": [
    {
     "data": {
      "text/html": [
       "<div>\n",
       "<style scoped>\n",
       "    .dataframe tbody tr th:only-of-type {\n",
       "        vertical-align: middle;\n",
       "    }\n",
       "\n",
       "    .dataframe tbody tr th {\n",
       "        vertical-align: top;\n",
       "    }\n",
       "\n",
       "    .dataframe thead th {\n",
       "        text-align: right;\n",
       "    }\n",
       "</style>\n",
       "<table border=\"1\" class=\"dataframe\">\n",
       "  <thead>\n",
       "    <tr style=\"text-align: right;\">\n",
       "      <th></th>\n",
       "      <th>titre_commentaire</th>\n",
       "      <th>commentaire</th>\n",
       "      <th>Date</th>\n",
       "      <th>Ville</th>\n",
       "      <th>Pays</th>\n",
       "      <th>Note</th>\n",
       "      <th>Photo</th>\n",
       "      <th>langue</th>\n",
       "    </tr>\n",
       "  </thead>\n",
       "  <tbody>\n",
       "    <tr>\n",
       "      <th>0</th>\n",
       "      <td>['super', 'hôtel', 'thème', 'marvel', 'disneyl...</td>\n",
       "      <td>['super', 'hôtel', 'thème', 'marvel', 'décors'...</td>\n",
       "      <td>déc 2022</td>\n",
       "      <td>Valenciennes</td>\n",
       "      <td>France</td>\n",
       "      <td>5</td>\n",
       "      <td>yes</td>\n",
       "      <td>fr</td>\n",
       "    </tr>\n",
       "    <tr>\n",
       "      <th>1</th>\n",
       "      <td>['attendais', 'mieux']</td>\n",
       "      <td>['peu', 'déçue', 'hôtel', 'très', 'belle', 'ch...</td>\n",
       "      <td>nov 2022</td>\n",
       "      <td>None</td>\n",
       "      <td>None</td>\n",
       "      <td>4</td>\n",
       "      <td>no</td>\n",
       "      <td>fr</td>\n",
       "    </tr>\n",
       "    <tr>\n",
       "      <th>2</th>\n",
       "      <td>['ravie']</td>\n",
       "      <td>['avon', 'vraiment', 'apprécié', 'nuit', 'cet'...</td>\n",
       "      <td>nov 2022</td>\n",
       "      <td>None</td>\n",
       "      <td>None</td>\n",
       "      <td>4</td>\n",
       "      <td>no</td>\n",
       "      <td>fr</td>\n",
       "    </tr>\n",
       "    <tr>\n",
       "      <th>3</th>\n",
       "      <td>['avis', 'mitigé']</td>\n",
       "      <td>['bel', 'hôtel', 'neuf', 'magique', 'yeux', 'e...</td>\n",
       "      <td>nov 2022</td>\n",
       "      <td>Calvi</td>\n",
       "      <td>France</td>\n",
       "      <td>3</td>\n",
       "      <td>no</td>\n",
       "      <td>fr</td>\n",
       "    </tr>\n",
       "    <tr>\n",
       "      <th>4</th>\n",
       "      <td>['fabuleux']</td>\n",
       "      <td>['superbe', 'accueil', 'castmembers', 'récepti...</td>\n",
       "      <td>nov 2022</td>\n",
       "      <td>Toulouse</td>\n",
       "      <td>France</td>\n",
       "      <td>5</td>\n",
       "      <td>yes</td>\n",
       "      <td>fr</td>\n",
       "    </tr>\n",
       "  </tbody>\n",
       "</table>\n",
       "</div>"
      ],
      "text/plain": [
       "                                   titre_commentaire  \\\n",
       "0  ['super', 'hôtel', 'thème', 'marvel', 'disneyl...   \n",
       "1                             ['attendais', 'mieux']   \n",
       "2                                          ['ravie']   \n",
       "3                                 ['avis', 'mitigé']   \n",
       "4                                       ['fabuleux']   \n",
       "\n",
       "                                         commentaire      Date         Ville  \\\n",
       "0  ['super', 'hôtel', 'thème', 'marvel', 'décors'...  déc 2022  Valenciennes   \n",
       "1  ['peu', 'déçue', 'hôtel', 'très', 'belle', 'ch...  nov 2022          None   \n",
       "2  ['avon', 'vraiment', 'apprécié', 'nuit', 'cet'...  nov 2022          None   \n",
       "3  ['bel', 'hôtel', 'neuf', 'magique', 'yeux', 'e...  nov 2022         Calvi   \n",
       "4  ['superbe', 'accueil', 'castmembers', 'récepti...  nov 2022      Toulouse   \n",
       "\n",
       "      Pays  Note Photo langue  \n",
       "0   France     5   yes     fr  \n",
       "1     None     4    no     fr  \n",
       "2     None     4    no     fr  \n",
       "3   France     3    no     fr  \n",
       "4   France     5   yes     fr  "
      ]
     },
     "execution_count": 4,
     "metadata": {},
     "output_type": "execute_result"
    }
   ],
   "source": [
    "#visualisation des premières lignes\n",
    "marvel.head()"
   ]
  },
  {
   "cell_type": "code",
   "execution_count": 5,
   "id": "8ff2aba4",
   "metadata": {},
   "outputs": [
    {
     "data": {
      "text/plain": [
       "439    juin 2022\n",
       "Name: Date, dtype: object"
      ]
     },
     "execution_count": 5,
     "metadata": {},
     "output_type": "execute_result"
    }
   ],
   "source": [
    "#Le fichier comprend des avis datés entre juin 2021 et décembre 2022\n",
    "marvel['Date'].tail(1)"
   ]
  },
  {
   "cell_type": "code",
   "execution_count": 6,
   "id": "aede9b30",
   "metadata": {},
   "outputs": [],
   "source": [
    "#Comptage des mots pour se donner une première idée des thèmes et d'un nettoyage complémentaire éventuel à opérer\n",
    "import re\n",
    "import collections"
   ]
  },
  {
   "cell_type": "code",
   "execution_count": 7,
   "id": "80e6c3ba",
   "metadata": {},
   "outputs": [
    {
     "data": {
      "text/plain": [
       "0    ['super', 'hôtel', 'thème', 'marvel', 'disneyl...\n",
       "1                               ['attendais', 'mieux']\n",
       "2                                            ['ravie']\n",
       "3                                   ['avis', 'mitigé']\n",
       "4                                         ['fabuleux']\n",
       "Name: titre_commentaire, dtype: object"
      ]
     },
     "execution_count": 7,
     "metadata": {},
     "output_type": "execute_result"
    }
   ],
   "source": [
    "# titre \n",
    "t=marvel['titre_commentaire']\n",
    "t.head()"
   ]
  },
  {
   "cell_type": "code",
   "execution_count": 8,
   "id": "755bc121",
   "metadata": {},
   "outputs": [
    {
     "data": {
      "text/plain": [
       "0    ['super', 'hôtel', 'thème', 'marvel', 'décors'...\n",
       "1    ['peu', 'déçue', 'hôtel', 'très', 'belle', 'ch...\n",
       "2    ['avon', 'vraiment', 'apprécié', 'nuit', 'cet'...\n",
       "Name: commentaire, dtype: object"
      ]
     },
     "execution_count": 8,
     "metadata": {},
     "output_type": "execute_result"
    }
   ],
   "source": [
    "# commentaire\n",
    "tx=marvel['commentaire']\n",
    "tx.head(3)"
   ]
  },
  {
   "cell_type": "markdown",
   "id": "9868f625",
   "metadata": {},
   "source": [
    "# II. Répartition des profils-clients : le français en langue d'analyse fait sens."
   ]
  },
  {
   "cell_type": "markdown",
   "id": "6af966bc",
   "metadata": {},
   "source": [
    "(1). Langue du commentaire : plus de la moitié de francophones, suivis assez loin par les anglophones (près de 2 fois moins). "
   ]
  },
  {
   "cell_type": "code",
   "execution_count": 9,
   "id": "71740cd8",
   "metadata": {},
   "outputs": [
    {
     "data": {
      "text/plain": [
       "<AxesSubplot:xlabel=\"Langue de l'avis\", ylabel='Nombre de répondants'>"
      ]
     },
     "execution_count": 9,
     "metadata": {},
     "output_type": "execute_result"
    },
    {
     "data": {
      "image/png": "[encoded data removed]",
      "text/plain": [
       "<Figure size 432x288 with 1 Axes>"
      ]
     },
     "metadata": {
      "needs_background": "light"
     },
     "output_type": "display_data"
    }
   ],
   "source": [
    "comptage=marvel['langue'].value_counts()\n",
    "comptage.plot(kind='bar',stacked=True,ylabel=\"Nombre de répondants\",xlabel=\"Langue de l'avis\")"
   ]
  },
  {
   "cell_type": "markdown",
   "id": "38cb92e8",
   "metadata": {},
   "source": [
    "(2). Les 2 graphiques suivants indiquent qu'il n'y a pas de différences significatives en matière de ventilation des notes selon que l'avis provient d'un francophone ou non (1er graphique).\n",
    "Les répartitions des notes principalement données sont '4' et '5' chez les principales clientèles, elles sont même identiques chez les francophones et les Italiens (2è graphique). "
   ]
  },
  {
   "cell_type": "code",
   "execution_count": 10,
   "id": "9b912545",
   "metadata": {},
   "outputs": [
    {
     "data": {
      "text/plain": [
       "<AxesSubplot:ylabel='langue'>"
      ]
     },
     "execution_count": 10,
     "metadata": {},
     "output_type": "execute_result"
    },
    {
     "data": {
      "image/png": "[encoded data removed]",
      "text/plain": [
       "<Figure size 432x288 with 1 Axes>"
      ]
     },
     "metadata": {
      "needs_background": "light"
     },
     "output_type": "display_data"
    }
   ],
   "source": [
    "T=pd.crosstab(marvel['langue']=='fr',marvel['Note'], normalize='index')\n",
    "T.plot.barh()"
   ]
  },
  {
   "cell_type": "code",
   "execution_count": 11,
   "id": "d1e8d711",
   "metadata": {},
   "outputs": [
    {
     "data": {
      "text/plain": [
       "Note    AxesSubplot(0.125,0.125;0.775x0.755)\n",
       "dtype: object"
      ]
     },
     "execution_count": 11,
     "metadata": {},
     "output_type": "execute_result"
    },
    {
     "data": {
      "image/png": "[encoded data removed]",
      "text/plain": [
       "<Figure size 432x288 with 1 Axes>"
      ]
     },
     "metadata": {
      "needs_background": "light"
     },
     "output_type": "display_data"
    }
   ],
   "source": [
    "#Boîte de Turkey\n",
    "color=dict(boxes='green',whiskers='DarkOrange',medians='DarkBlue',caps='Black')\n",
    "marvel.plot.box(column='Note',by='langue',color=color,sym='r+',vert=False)"
   ]
  },
  {
   "cell_type": "markdown",
   "id": "5b7ef5d1",
   "metadata": {},
   "source": [
    "(3). Ventilation des notes"
   ]
  },
  {
   "cell_type": "code",
   "execution_count": 12,
   "id": "920d17b0",
   "metadata": {},
   "outputs": [
    {
     "data": {
      "image/png": "[encoded data removed]",
      "text/plain": [
       "<Figure size 432x432 with 1 Axes>"
      ]
     },
     "metadata": {},
     "output_type": "display_data"
    }
   ],
   "source": [
    "plt.figure(figsize=(6, 6))\n",
    "cols = ['b','c','y','orange','r']\n",
    "marvel['Note'].value_counts().plot.pie(autopct='%1.1f%%', shadow= True,colors=cols)\n",
    "plt.show()"
   ]
  },
  {
   "cell_type": "markdown",
   "id": "c77342d0",
   "metadata": {},
   "source": [
    "# III.Word2Vec avec Gensim"
   ]
  },
  {
   "cell_type": "markdown",
   "id": "e5ac29ff",
   "metadata": {},
   "source": [
    "**(1) Cas d'usage sur les commentaires : visualisation de la procédure de nettoyage et de tokenisation des verbatim**."
   ]
  },
  {
   "cell_type": "markdown",
   "id": "93669d5d",
   "metadata": {},
   "source": [
    "Nous détaillons ici la préparation des données pour la vectorisation, embarquée sous forme automatisée dans notre fonction de nettoyage : retrait des ponctuations, tokenisation, lemmatisation.\n",
    "Les fichiers en soi sont utilisables directement pour procéder à la vectorisation. "
   ]
  },
  {
   "cell_type": "code",
   "execution_count": 13,
   "id": "316d92d1",
   "metadata": {},
   "outputs": [
    {
     "name": "stdout",
     "output_type": "stream",
     "text": [
      "['récemment', 'passé', 'deux', 'nuits', 'cet', 'hôtel', 'apprécié', 'séjour', 'fan', 'marvel', 'hôtel', 'incontournable', 'imo', 'thème', 'hôtel', 'super', 'cool', 'personnel', 'formidable', 'aussi', 'hôtel', 'peu', 'cher', 'pourquoi', 'noté', 'valeur', 'donné', 'service', 'lié', 'ménage', 'obtenir', 'ménage', 'laisser', 'café', 'supplémentaire', 'eau', 'café', 'donne', 'approvisionnement', 'minimal', 'réapprovisionné', 'pendant', 'séjour', 'cela', 'semblait', 'idiot', 'prix', 'chambre', 'pouvais', 'obtenir', 'quelques', 'dosettes', 'supplémentaires', 'café', 'petite', 'crèmes', 'sucre']\n"
     ]
    }
   ],
   "source": [
    "#récupération sous forme de liste \n",
    "corpus=tx.tolist()\n",
    "print(corpus[50])"
   ]
  },
  {
   "cell_type": "code",
   "execution_count": 14,
   "id": "9d891ba6",
   "metadata": {},
   "outputs": [
    {
     "name": "stdout",
     "output_type": "stream",
     "text": [
      "['passé', 'nuits', 'enfants', 'hôtel', 'incroyable', 'garçons', 'aiment', 'merveilles', 'seul', 'dommage', 'avon', 'raté', 'ouverture', 'campus', 'avenger', 'adoré', 'station', 'superhéros', 'hôtel', 'toutes', 'œuvres', 'art', 'merveilleuses', 'hôtel', 'proche', 'pouvions', 'faire', 'première', 'heure', 'parc', 'puis', 'revenir', 'petit', 'déjeuner', 'tout', 'personnel', 'très', 'sympathique', 'voyage', 'unique', 'souvenir', 'spéciaux', 'créés']\n"
     ]
    }
   ],
   "source": [
    "# (1) Passage en minuscules\n",
    "corpus=[doc.lower() for doc in corpus]\n",
    "print(corpus[100])"
   ]
  },
  {
   "cell_type": "code",
   "execution_count": 15,
   "id": "ae664bdc",
   "metadata": {},
   "outputs": [],
   "source": [
    "# (2) retrait des ponctuations\n",
    "import string\n",
    "ponctuations= list(string.punctuation)"
   ]
  },
  {
   "cell_type": "code",
   "execution_count": 16,
   "id": "e69bea09",
   "metadata": {},
   "outputs": [
    {
     "name": "stdout",
     "output_type": "stream",
     "text": [
      "habitué disneyland hôtel somme rabattus celuici car disney village parc accessible pied arrivée hall majestueux sublimes dessins hauteur sou plafond impressionnante check peu long long heure covid bref récupérons direction parc plus recevez quand chambre prête code accès ouvrir porte soir arrivée découvrons sublime chambre beaucoup petite attention chocolats macarons bonbon cadeaux effigie hôte enfants sac gourde bref hésitez plus réserver sans hésiter surtout enfants fan héros marvel chez fille plutôt princesse fils grandit…\n"
     ]
    }
   ],
   "source": [
    "corpus= [\"\".join([char for char in list (doc) if not (char in ponctuations)]) for doc in corpus]\n",
    "print(corpus[200])"
   ]
  },
  {
   "cell_type": "code",
   "execution_count": 17,
   "id": "45683bf1",
   "metadata": {},
   "outputs": [
    {
     "name": "stdout",
     "output_type": "stream",
     "text": [
      "['voyage', 'disney', 'première', 'fois', 'séjournais', 'hny', 'dîné', 'ici', 'avant', 'rénovations', 'très', 'impressionné', 'hôtel', 'rénovations', 'thématique', 'marvel', 'excellente', 'somme', 'arrivés', 'heure', 'déjeuner', 'avon', 'ravis', 'apprendre', 'chambre', 'prête', 'chambre', 'propre', 'moderne', 'spacieuse', 'personnel', 'excellent', 'partout', 'rien', 'trop', 'demander', 'problème', 'mineur', 'laissezpasser', 'magiques', 'arrivée', 'dame', 'réception', 'rapidement', 'réglé', 'problème', 'plan', 'repas', 'disney', 'avon', 'pris', 'petit', 'déjeuner', 'dîner', 'hôtel', 'tous', 'deux', 'excellents', 'beaucoup', 'choix', 'nourriture', 'chaude', 'etc', 'enfants', 'adoré', 'avantage', 'station', 'superhéros', 'équipement', 'merveilleux', 'piscine', 'également', 'plu', 'piscine', 'immense', 'peutêtre', 'peu', 'froide', 'problème', 'la…']\n"
     ]
    }
   ],
   "source": [
    "#(2)\n",
    "#transformer les corpus en liste de liste (les documents)\n",
    "#par tokenisation\n",
    "from nltk.tokenize import word_tokenize\n",
    "corpus_tk=[word_tokenize(doc) for doc in corpus]\n",
    "print(corpus_tk[17])"
   ]
  },
  {
   "cell_type": "code",
   "execution_count": 18,
   "id": "cf420dc5",
   "metadata": {},
   "outputs": [
    {
     "name": "stdout",
     "output_type": "stream",
     "text": [
      "['fantastique', 'hôtel', 'marvel', 'new', 'york', 'près', 'parc', 'chambres', 'assez', 'propres', 'détail', 'quand', 'reviennent', 'aprèsmidi', 'super', 'soulignerais', 'boutiqueboutique', 'downtown', 'espace', 'enfants', 'peuvent', 'dessiner', 'acheté', 'désodorisant', 'hôtel', 'maison', 'sent', 'bon', 'point', 'améliorer', 'dirais', 'pourraient', 'être', 'peu', 'plus', 'agiles', 'moment', 'file', 'attente', 'entrer', 'restaurant', 'prix', 'très', 'élevé', 'tout', 'monde', 'peut', 'permettre']\n"
     ]
    }
   ],
   "source": [
    "#(3)\n",
    "#lemmatisation (rapprocher les mots de la même famille \"est\", \"es\"= être))\n",
    "from nltk.stem import WordNetLemmatizer\n",
    "lem =WordNetLemmatizer()\n",
    "corpus_lm=[[lem.lemmatize(mot) for mot in doc] for doc in corpus_tk]\n",
    "print(corpus_lm[8])"
   ]
  },
  {
   "cell_type": "markdown",
   "id": "f3f84f25",
   "metadata": {},
   "source": [
    "**Retrait des mots vides : les stopwords du package comprennent 179 mots vides fréquents. Nous allons compléter la liste manuellement : certains mots vides comme pourtant arrivent dans le haut du classement et créent du bruit pour les mots utiles**"
   ]
  },
  {
   "cell_type": "code",
   "execution_count": 20,
   "id": "1df946ad",
   "metadata": {},
   "outputs": [
    {
     "name": "stdout",
     "output_type": "stream",
     "text": [
      "207\n",
      "['au', 'aux', 'avec', 'ce', 'ces', 'dans', 'de', 'des', 'du', 'elle', 'en', 'et', 'eux', 'il', 'ils', 'je', 'la', 'le', 'les', 'leur', 'lui', 'ma', 'mais', 'me', 'même', 'mes', 'moi', 'mon', 'ne', 'nos', 'notre', 'nous', 'on', 'ou', 'par', 'pas', 'pour', 'qu', 'que', 'qui', 'sa', 'se', 'ses', 'son', 'sur', 'ta', 'te', 'tes', 'toi', 'ton', 'tu', 'un', 'une', 'vos', 'votre', 'vous', 'c', 'd', 'j', 'l', 'à', 'm', 'n', 's', 't', 'y', 'été', 'étée', 'étées', 'étés', 'étant', 'étante', 'étants', 'étantes', 'suis', 'es', 'est', 'sommes', 'êtes', 'sont', 'serai', 'seras', 'sera', 'serons', 'serez', 'seront', 'serais', 'serait', 'serions', 'seriez', 'seraient', 'étais', 'était', 'étions', 'étiez', 'étaient', 'fus', 'fut', 'fûmes', 'fûtes', 'furent', 'sois', 'soit', 'soyons', 'soyez', 'soient', 'fusse', 'fusses', 'fût', 'fussions', 'fussiez', 'fussent', 'ayant', 'ayante', 'ayantes', 'ayants', 'eu', 'eue', 'eues', 'eus', 'ai', 'as', 'avons', 'avez', 'ont', 'aurai', 'auras', 'aura', 'aurons', 'aurez', 'auront', 'aurais', 'aurait', 'aurions', 'auriez', 'auraient', 'avais', 'avait', 'avions', 'aviez', 'avaient', 'eut', 'eûmes', 'eûtes', 'eurent', 'aie', 'aies', 'ait', 'ayons', 'ayez', 'aient', 'eusse', 'eusses', 'eût', 'eussions', 'eussiez', 'eussent', 'marvel', 'disney', 'disneyland', 'hny', 'new', 'york', 'la…', 'pourtant', 'car', 'cependant', 'toutefois', 'néanmoins', 'grâce', 'auron', 'avon', 'cela', 'cet', 'tout', 'donc', 'le…', 'dès', 'déjà', 'bref', 'jusqu', 'malgré', 'ceux', 'vers', 'plutôt', 'etc', 'tant', 'entre', 'puis', 'leurs', 'ensuite', 'afin', 'parce', 'estàdire', 'luimême', 'sen', 'quelle', 'ailleurs', 'dessus', 'avoir', 'oui', 'newyork', 'appelle', 'peuvent', 'pourraient', 'littéralement', 'devenu']\n"
     ]
    },
    {
     "name": "stderr",
     "output_type": "stream",
     "text": [
      "[nltk_data] Downloading package stopwords to\n",
      "[nltk_data]     C:\\Users\\chrys\\AppData\\Roaming\\nltk_data...\n",
      "[nltk_data]   Package stopwords is already up-to-date!\n"
     ]
    }
   ],
   "source": [
    "#(4) charger les stopwords (179 dans la liste initiale), compléter de qq mots vides courants pourtant non répertoriés\n",
    "# qui arrivent pour certains dans le top des mots les plus fréquents dans les verbatim (ex:\"pourtant\",\"cet\",\"dessus\"),\n",
    "# et ajouter ceux propres à Disney et à l'hôtel (marvel, disney)\n",
    "from nltk.corpus import stopwords\n",
    "nltk.download('stopwords')\n",
    "mots_vides = stopwords.words('french')+ [\"marvel\",\"disney\",\"disneyland\",\"hny\",\"new\",\"york\",\"la…\",\"pourtant\",\"car\",\"cependant\",\"toutefois\", \"néanmoins\", \"grâce\",\"auron\",\"avon\",\"cela\",\"cet\",\"tout\",\"donc\",\"le…\",\"dès\",\"déjà\",\"bref\",\"jusqu\",\"malgré\",\"ceux\",\"vers\",\"plutôt\",\"etc\",\"tant\",\"entre\",\"puis\",\"leurs\",\"ensuite\",\"afin\",\"parce\",\"estàdire\",\"luimême\",\"sen\",\"quelle\",\"ailleurs\",\"dessus\",\"avoir\",\"oui\",\"newyork\",\"appelle\",\"peuvent\",\"pourraient\",\"littéralement\",\"devenu\"] \n",
    "print(len(mots_vides)) #207 mots vide retirés en tout\n",
    "print(mots_vides)"
   ]
  },
  {
   "cell_type": "code",
   "execution_count": 21,
   "id": "09cdedf6",
   "metadata": {},
   "outputs": [],
   "source": [
    "#suppresion des mots vides\n",
    "corpus_sw=[[mot for mot in doc if not (mot in mots_vides)] for doc in corpus_lm]"
   ]
  },
  {
   "cell_type": "code",
   "execution_count": 22,
   "id": "8b8e0d32",
   "metadata": {},
   "outputs": [],
   "source": [
    "#suppression des chiffres\n",
    "chiffres = list(\"0123456789\")\n",
    "corpus_su=[[mot for mot in doc if not (mot in chiffres)] for doc in corpus_sw]"
   ]
  },
  {
   "cell_type": "code",
   "execution_count": 23,
   "id": "3249a275",
   "metadata": {},
   "outputs": [],
   "source": [
    "#(5) retirer les mots de moins de 3 lettres\n",
    "corpus_sw=[[mot for mot in doc if len(mot) >= 3] for doc in corpus_su]"
   ]
  },
  {
   "cell_type": "markdown",
   "id": "8ea729be",
   "metadata": {},
   "source": [
    "**(2) Vectorisation** \n",
    "\n",
    "Nous partons sur un vecteur à 2 dimensions pour réaliser les graphiques de représentation spatiale des termes."
   ]
  },
  {
   "cell_type": "code",
   "execution_count": 24,
   "id": "527da65d",
   "metadata": {},
   "outputs": [
    {
     "data": {
      "text/plain": [
       "gensim.models.word2vec.Word2Vec"
      ]
     },
     "execution_count": 24,
     "metadata": {},
     "output_type": "execute_result"
    }
   ],
   "source": [
    "#word2vec\n",
    "from gensim.models import Word2Vec\n",
    "modele = Word2Vec(corpus_sw,vector_size=2,window=5) #size = 2 ; 2 axes #window= 5 termes-voisins\n",
    "type(modele)"
   ]
  },
  {
   "cell_type": "code",
   "execution_count": 25,
   "id": "de97a632",
   "metadata": {},
   "outputs": [
    {
     "name": "stdout",
     "output_type": "stream",
     "text": [
      "<class 'gensim.models.keyedvectors.KeyedVectors'>\n"
     ]
    }
   ],
   "source": [
    "#word vectors (wv) = transcription en vecteurs de la liste des termes\n",
    "words= modele.wv\n",
    "print(type(words))"
   ]
  },
  {
   "cell_type": "code",
   "execution_count": null,
   "id": "0258f45c",
   "metadata": {},
   "outputs": [],
   "source": [
    "#dir(words)"
   ]
  },
  {
   "cell_type": "code",
   "execution_count": null,
   "id": "07961faa",
   "metadata": {},
   "outputs": [],
   "source": [
    "#words.key_to_index"
   ]
  },
  {
   "cell_type": "markdown",
   "id": "78d2ced4",
   "metadata": {},
   "source": [
    "**Les dimensions** : 812 termes et matrice à 2 dimensions (comme demandé plus haut)"
   ]
  },
  {
   "cell_type": "code",
   "execution_count": 26,
   "id": "7e5a1cca",
   "metadata": {},
   "outputs": [
    {
     "data": {
      "text/plain": [
       "(813, 2)"
      ]
     },
     "execution_count": 26,
     "metadata": {},
     "output_type": "execute_result"
    }
   ],
   "source": [
    "words.vectors.shape"
   ]
  },
  {
   "cell_type": "markdown",
   "id": "72ff16cb",
   "metadata": {},
   "source": [
    "**(3) Recherche des points de friction vs des points porteurs de satisfaction**"
   ]
  },
  {
   "cell_type": "markdown",
   "id": "a7b520b6",
   "metadata": {},
   "source": [
    "**a-Regardons les coordonnées de quelques mots marquants parmi les plus fréquents antinomiques de prime abord comme décevant et magic ->** \n",
    "Dans quelle mesure sont-ils proches dans l'espace de représentation ? "
   ]
  },
  {
   "cell_type": "code",
   "execution_count": 27,
   "id": "3320d744",
   "metadata": {},
   "outputs": [
    {
     "name": "stdout",
     "output_type": "stream",
     "text": [
      "[0.51431507 0.29548797]\n"
     ]
    }
   ],
   "source": [
    "#coordonnées de magic\n",
    "vec1=words['magic']\n",
    "print(vec1)"
   ]
  },
  {
   "cell_type": "code",
   "execution_count": 28,
   "id": "8d882a8d",
   "metadata": {},
   "outputs": [
    {
     "name": "stdout",
     "output_type": "stream",
     "text": [
      "[0.3267335 0.611081 ]\n"
     ]
    }
   ],
   "source": [
    "#coordonnées de décevant\n",
    "vec2=words['décevant']\n",
    "print(vec2)"
   ]
  },
  {
   "cell_type": "markdown",
   "id": "1cb91165",
   "metadata": {},
   "source": [
    "Les 2 termes **\"Magic\" et \"Décevant\"** sont assez proches dans l'espace de représentation (0.84). iso pour magique (=magic)."
   ]
  },
  {
   "cell_type": "code",
   "execution_count": 29,
   "id": "e66028ec",
   "metadata": {},
   "outputs": [
    {
     "name": "stdout",
     "output_type": "stream",
     "text": [
      "0.84815085\n"
     ]
    }
   ],
   "source": [
    "#smilarité cosinus -- formule (produit scalaire des 2 vecteurs divisé par le produit des normes)\n",
    "print(np.dot(vec1,vec2)/(np.linalg.norm(vec1)*np.linalg.norm(vec2)))"
   ]
  },
  {
   "cell_type": "code",
   "execution_count": 30,
   "id": "fe84a39b",
   "metadata": {},
   "outputs": [
    {
     "data": {
      "text/plain": [
       "0.994234"
      ]
     },
     "execution_count": 30,
     "metadata": {},
     "output_type": "execute_result"
    }
   ],
   "source": [
    "#magique/magic : 2 termes similaires\n",
    "words.similarity(\"magique\",\"magic\")"
   ]
  },
  {
   "cell_type": "markdown",
   "id": "d9d4c4ba",
   "metadata": {},
   "source": [
    "**Qu'en est-il de \"peluches\" et de \"magic\"/\"magique\"?**\n",
    "les termes sont quasiment superposés (0.94)"
   ]
  },
  {
   "cell_type": "code",
   "execution_count": 31,
   "id": "efa2ff10",
   "metadata": {},
   "outputs": [
    {
     "data": {
      "text/plain": [
       "0.93386143"
      ]
     },
     "execution_count": 31,
     "metadata": {},
     "output_type": "execute_result"
    }
   ],
   "source": [
    "#utilisation de la similarité cosinus embarquée dans le package gensim\n",
    "words.similarity(\"peluches\",\"magic\")"
   ]
  },
  {
   "cell_type": "markdown",
   "id": "eb1b7422",
   "metadata": {},
   "source": [
    "**b- NETTOYAGE, CALME, GATEAU, SPECTACLE, EQUIPEMENTS POUR BEBE et l'EMPLACEMENT (=ASSOCIE A \"PROBLEME\") en points de friction**\n",
    "\n",
    "1- les termes les plus proches de la conjonction \"magic\" /\"magique\" et \"décevant\"** sont \"nettoyage\" et \"calme\". Il semble exister également une zone de déception à l'égard des gâteaux."
   ]
  },
  {
   "cell_type": "code",
   "execution_count": 33,
   "id": "1aade5fb",
   "metadata": {},
   "outputs": [
    {
     "name": "stdout",
     "output_type": "stream",
     "text": [
      "[('mal', 0.9999994039535522), ('zone', 0.9999991655349731), ('activités', 0.9999951124191284), ('état', 0.9999939203262329), ('nuit', 0.9999874234199524)]\n"
     ]
    }
   ],
   "source": [
    "#les mots les plus proches de la conjonction de \"décevant\" et de \"magic\"\n",
    "print(words.most_similar(positive=[\"magic\",\"décevant\"],topn=5))"
   ]
  },
  {
   "cell_type": "code",
   "execution_count": 34,
   "id": "0dd2eb22",
   "metadata": {},
   "outputs": [
    {
     "name": "stdout",
     "output_type": "stream",
     "text": [
      "[('voulions', 0.999995231628418), ('déçue', 0.9985730648040771), ('gâteau', 0.9984937906265259)]\n"
     ]
    }
   ],
   "source": [
    "#les mots les plus proches de \"magique\" et les plus éloignés de \"décevant\": intéressant de noter que \"déçue\", \"voulions\" et \"gâteau\"\n",
    "#proches de \"magique\": attentes non concrétisées pour quelques clients (cf. la marque du féminin - verbatim potneitllement isolé)\n",
    "print(words.most_similar(positive=[\"magique\"],negative =[\"décevant\"],topn=3))"
   ]
  },
  {
   "cell_type": "markdown",
   "id": "6b250230",
   "metadata": {},
   "source": [
    "2- forte proximité entre **\"artifice (ou spectacle) et \"Décevant\" (0.99)**.  Artifice est en effet synonyme de \"spectacle\"(près de 1 de proximité) => référence au feu d'artifice qui déçoit une partie de la clientèle. **Décevant a également une proximité de 0.99 avec \"poussière\"**. "
   ]
  },
  {
   "cell_type": "code",
   "execution_count": 35,
   "id": "f4e403fb",
   "metadata": {},
   "outputs": [
    {
     "data": {
      "text/plain": [
       "0.9951336"
      ]
     },
     "execution_count": 35,
     "metadata": {},
     "output_type": "execute_result"
    }
   ],
   "source": [
    "words.similarity(\"artifice\",\"spectacle\")"
   ]
  },
  {
   "cell_type": "code",
   "execution_count": 36,
   "id": "86cc5b57",
   "metadata": {},
   "outputs": [
    {
     "data": {
      "text/plain": [
       "0.9955656"
      ]
     },
     "execution_count": 36,
     "metadata": {},
     "output_type": "execute_result"
    }
   ],
   "source": [
    "words.similarity(\"spectacle\",\"décevant\")"
   ]
  },
  {
   "cell_type": "code",
   "execution_count": 37,
   "id": "527bd4c8",
   "metadata": {},
   "outputs": [
    {
     "data": {
      "text/plain": [
       "0.9592334"
      ]
     },
     "execution_count": 37,
     "metadata": {},
     "output_type": "execute_result"
    }
   ],
   "source": [
    "words.similarity(\"décevant\",\"nettoyage\")"
   ]
  },
  {
   "cell_type": "code",
   "execution_count": 38,
   "id": "cc6e1eec",
   "metadata": {},
   "outputs": [
    {
     "data": {
      "text/plain": [
       "0.995263"
      ]
     },
     "execution_count": 38,
     "metadata": {},
     "output_type": "execute_result"
    }
   ],
   "source": [
    "words.similarity(\"décevant\",\"poussière\")"
   ]
  },
  {
   "cell_type": "markdown",
   "id": "35056c62",
   "metadata": {},
   "source": [
    "3 - \"Manquait\" : l'analyse de proximité indiquerait qu'il manque des équipements pour bébé."
   ]
  },
  {
   "cell_type": "code",
   "execution_count": 41,
   "id": "c9660e62",
   "metadata": {},
   "outputs": [
    {
     "data": {
      "text/plain": [
       "[('plupart', 0.9999982118606567),\n",
       " ('disposition', 0.9990074038505554),\n",
       " ('varié', 0.9956029057502747),\n",
       " ('trouver', 0.9946442246437073),\n",
       " ('bébé', 0.9925758242607117),\n",
       " ('équipement', 0.9922869801521301)]"
      ]
     },
     "execution_count": 41,
     "metadata": {},
     "output_type": "execute_result"
    }
   ],
   "source": [
    "#les termes les plus proches de \"Manquait\" : équipements pour bébé ?\n",
    "words.most_similar(\"manquait\",topn=6) #les mots les plus proches de la conjonction de \"décevant\" et de \"magic\""
   ]
  },
  {
   "cell_type": "code",
   "execution_count": 42,
   "id": "db352f98",
   "metadata": {},
   "outputs": [
    {
     "data": {
      "text/plain": [
       "0.9999179"
      ]
     },
     "execution_count": 42,
     "metadata": {},
     "output_type": "execute_result"
    }
   ],
   "source": [
    "# La distance de l'hôtel par rapport aux attractions du parc a été cité comme un problème\n",
    "words.similarity(\"emplacement\",\"problème\")"
   ]
  },
  {
   "cell_type": "markdown",
   "id": "258db0a9",
   "metadata": {},
   "source": [
    "**(4). Récupération des données dans un data frame pour creuser les proximités vectorielles et préparer les graphiques discriminants.** "
   ]
  },
  {
   "cell_type": "code",
   "execution_count": 44,
   "id": "75b0a699",
   "metadata": {},
   "outputs": [
    {
     "data": {
      "text/html": [
       "<div>\n",
       "<style scoped>\n",
       "    .dataframe tbody tr th:only-of-type {\n",
       "        vertical-align: middle;\n",
       "    }\n",
       "\n",
       "    .dataframe tbody tr th {\n",
       "        vertical-align: top;\n",
       "    }\n",
       "\n",
       "    .dataframe thead th {\n",
       "        text-align: right;\n",
       "    }\n",
       "</style>\n",
       "<table border=\"1\" class=\"dataframe\">\n",
       "  <thead>\n",
       "    <tr style=\"text-align: right;\">\n",
       "      <th></th>\n",
       "      <th>V1</th>\n",
       "      <th>V2</th>\n",
       "    </tr>\n",
       "  </thead>\n",
       "  <tbody>\n",
       "    <tr>\n",
       "      <th>hôtel</th>\n",
       "      <td>3.584598</td>\n",
       "      <td>2.468698</td>\n",
       "    </tr>\n",
       "    <tr>\n",
       "      <th>très</th>\n",
       "      <td>3.399469</td>\n",
       "      <td>2.556595</td>\n",
       "    </tr>\n",
       "    <tr>\n",
       "      <th>chambre</th>\n",
       "      <td>3.526099</td>\n",
       "      <td>2.363692</td>\n",
       "    </tr>\n",
       "    <tr>\n",
       "      <th>personnel</th>\n",
       "      <td>3.348754</td>\n",
       "      <td>2.426868</td>\n",
       "    </tr>\n",
       "    <tr>\n",
       "      <th>chambres</th>\n",
       "      <td>3.028767</td>\n",
       "      <td>2.031748</td>\n",
       "    </tr>\n",
       "  </tbody>\n",
       "</table>\n",
       "</div>"
      ],
      "text/plain": [
       "                 V1        V2\n",
       "hôtel      3.584598  2.468698\n",
       "très       3.399469  2.556595\n",
       "chambre    3.526099  2.363692\n",
       "personnel  3.348754  2.426868\n",
       "chambres   3.028767  2.031748"
      ]
     },
     "execution_count": 44,
     "metadata": {},
     "output_type": "execute_result"
    }
   ],
   "source": [
    "df =pd.DataFrame(words.vectors, columns=['V1','V2'], index=words.key_to_index.keys())\n",
    "df.head()"
   ]
  },
  {
   "cell_type": "code",
   "execution_count": 45,
   "id": "568ce78c",
   "metadata": {},
   "outputs": [],
   "source": [
    "df.to_csv(\"words.vectors.marvel.txt\",sep=\";\",header=True)"
   ]
  },
  {
   "cell_type": "code",
   "execution_count": 46,
   "id": "1f1be458",
   "metadata": {},
   "outputs": [
    {
     "data": {
      "text/html": [
       "<div>\n",
       "<style scoped>\n",
       "    .dataframe tbody tr th:only-of-type {\n",
       "        vertical-align: middle;\n",
       "    }\n",
       "\n",
       "    .dataframe tbody tr th {\n",
       "        vertical-align: top;\n",
       "    }\n",
       "\n",
       "    .dataframe thead th {\n",
       "        text-align: right;\n",
       "    }\n",
       "</style>\n",
       "<table border=\"1\" class=\"dataframe\">\n",
       "  <thead>\n",
       "    <tr style=\"text-align: right;\">\n",
       "      <th></th>\n",
       "      <th>V1</th>\n",
       "      <th>V2</th>\n",
       "    </tr>\n",
       "  </thead>\n",
       "  <tbody>\n",
       "    <tr>\n",
       "      <th>magic</th>\n",
       "      <td>0.514315</td>\n",
       "      <td>0.295488</td>\n",
       "    </tr>\n",
       "    <tr>\n",
       "      <th>décevant</th>\n",
       "      <td>0.326733</td>\n",
       "      <td>0.611081</td>\n",
       "    </tr>\n",
       "    <tr>\n",
       "      <th>déçue</th>\n",
       "      <td>0.147241</td>\n",
       "      <td>-0.177140</td>\n",
       "    </tr>\n",
       "    <tr>\n",
       "      <th>spectacle</th>\n",
       "      <td>0.317113</td>\n",
       "      <td>0.756794</td>\n",
       "    </tr>\n",
       "    <tr>\n",
       "      <th>nettoyage</th>\n",
       "      <td>0.651377</td>\n",
       "      <td>0.661715</td>\n",
       "    </tr>\n",
       "    <tr>\n",
       "      <th>gâteau</th>\n",
       "      <td>0.165671</td>\n",
       "      <td>-0.199906</td>\n",
       "    </tr>\n",
       "    <tr>\n",
       "      <th>équipement</th>\n",
       "      <td>0.233836</td>\n",
       "      <td>-0.048002</td>\n",
       "    </tr>\n",
       "    <tr>\n",
       "      <th>bébé</th>\n",
       "      <td>0.259330</td>\n",
       "      <td>-0.053871</td>\n",
       "    </tr>\n",
       "    <tr>\n",
       "      <th>manquait</th>\n",
       "      <td>0.371155</td>\n",
       "      <td>-0.125783</td>\n",
       "    </tr>\n",
       "    <tr>\n",
       "      <th>personnel</th>\n",
       "      <td>3.348754</td>\n",
       "      <td>2.426868</td>\n",
       "    </tr>\n",
       "  </tbody>\n",
       "</table>\n",
       "</div>"
      ],
      "text/plain": [
       "                  V1        V2\n",
       "magic       0.514315  0.295488\n",
       "décevant    0.326733  0.611081\n",
       "déçue       0.147241 -0.177140\n",
       "spectacle   0.317113  0.756794\n",
       "nettoyage   0.651377  0.661715\n",
       "gâteau      0.165671 -0.199906\n",
       "équipement  0.233836 -0.048002\n",
       "bébé        0.259330 -0.053871\n",
       "manquait    0.371155 -0.125783\n",
       "personnel   3.348754  2.426868"
      ]
     },
     "execution_count": 46,
     "metadata": {},
     "output_type": "execute_result"
    }
   ],
   "source": [
    "#Mots-clés dégagés\n",
    "mots = ['magic','décevant','déçue','spectacle','nettoyage','gâteau','équipement', 'bébé','manquait','personnel','chambres','impossible','sommeil','dormir','conciergerie','poussière','cheveux','attention','bien','entretien','baignoire','climatisation','impeccable','propreté','emplacement','problème','sympathique','décoration','propre','attente','qualité','endroit','incroyable','buffet','accueil','attentionné']\n",
    "dfMots= df.loc[mots, :]\n",
    "dfMots.head(10)"
   ]
  },
  {
   "cell_type": "code",
   "execution_count": 47,
   "id": "21373cfd",
   "metadata": {},
   "outputs": [
    {
     "data": {
      "image/png": "[encoded data removed]",
      "text/plain": [
       "<Figure size 720x720 with 1 Axes>"
      ]
     },
     "metadata": {
      "needs_background": "light"
     },
     "output_type": "display_data"
    }
   ],
   "source": [
    "#graphique dans le plan\n",
    "\n",
    "plt.figure(figsize=(10, 10))\n",
    "for i in range(dfMots.shape[0]):\n",
    "    plt.scatter(dfMots.V1,dfMots.V2,s=30)\n",
    "    plt.annotate(dfMots.index[i],(dfMots.V1[i],dfMots.V2[i]))\n",
    "plt.show()"
   ]
  },
  {
   "cell_type": "markdown",
   "id": "8ad40094",
   "metadata": {},
   "source": [
    "**Interprétation du graphique : 6 zones.** \n",
    "Positif en haut à droite : personnel/chambres/buffet = bien.\n",
    "Positif en dessous : endroit incroyable, propre, qualité.\n",
    "Au centre : emplacement=problème (termes superposés).\n",
    "Au centre aussi : Accueil=attente mais aussi attention et sympatique.\n",
    "A gauche : on retrouve des pb afférents à des incidents de nettoyage : cheveux dans la baignoire, présence de poussière. Egalement, une impossibilité selon certains clients de bien dormir. Non liée à la climatisation (associée à impeccable).\n",
    "ET on retrouve le couple spectacle / décevant, et le couple décevant /poussière.\n",
    "Enfin, en bas à gauche, nous retrouvons les équipements manquants pour bébé et sur la déception isolée quant au gâteau. "
   ]
  },
  {
   "cell_type": "markdown",
   "id": "aee3bd23",
   "metadata": {},
   "source": [
    "# IV. Analyse du titre"
   ]
  },
  {
   "cell_type": "code",
   "execution_count": 48,
   "id": "f07e1eb4",
   "metadata": {},
   "outputs": [],
   "source": [
    "import ast\n",
    "liste=[ast.literal_eval(x) for x in t]"
   ]
  },
  {
   "cell_type": "code",
   "execution_count": 49,
   "id": "5408c837",
   "metadata": {},
   "outputs": [],
   "source": [
    "#word2vec\n",
    "modele2 = Word2Vec(liste,vector_size=2,window=5) #size = 2 ; 2 axes #window= 5 termes-voisins"
   ]
  },
  {
   "cell_type": "code",
   "execution_count": 50,
   "id": "3e450afb",
   "metadata": {},
   "outputs": [],
   "source": [
    "#word vectors (wv) = transcription en vecteurs de la liste des termes\n",
    "words2= modele2.wv"
   ]
  },
  {
   "cell_type": "code",
   "execution_count": 51,
   "id": "2d17cdc3",
   "metadata": {},
   "outputs": [
    {
     "data": {
      "text/html": [
       "<div>\n",
       "<style scoped>\n",
       "    .dataframe tbody tr th:only-of-type {\n",
       "        vertical-align: middle;\n",
       "    }\n",
       "\n",
       "    .dataframe tbody tr th {\n",
       "        vertical-align: top;\n",
       "    }\n",
       "\n",
       "    .dataframe thead th {\n",
       "        text-align: right;\n",
       "    }\n",
       "</style>\n",
       "<table border=\"1\" class=\"dataframe\">\n",
       "  <thead>\n",
       "    <tr style=\"text-align: right;\">\n",
       "      <th></th>\n",
       "      <th>V1</th>\n",
       "      <th>V2</th>\n",
       "    </tr>\n",
       "  </thead>\n",
       "  <tbody>\n",
       "    <tr>\n",
       "      <th>mieux</th>\n",
       "      <td>0.045582</td>\n",
       "      <td>0.319254</td>\n",
       "    </tr>\n",
       "    <tr>\n",
       "      <th>state</th>\n",
       "      <td>-0.429479</td>\n",
       "      <td>0.183251</td>\n",
       "    </tr>\n",
       "    <tr>\n",
       "      <th>vacances</th>\n",
       "      <td>0.260658</td>\n",
       "      <td>0.287291</td>\n",
       "    </tr>\n",
       "    <tr>\n",
       "      <th>empire</th>\n",
       "      <td>0.375444</td>\n",
       "      <td>-0.308660</td>\n",
       "    </tr>\n",
       "    <tr>\n",
       "      <th>weekend</th>\n",
       "      <td>0.055976</td>\n",
       "      <td>0.302469</td>\n",
       "    </tr>\n",
       "  </tbody>\n",
       "</table>\n",
       "</div>"
      ],
      "text/plain": [
       "                V1        V2\n",
       "mieux     0.045582  0.319254\n",
       "state    -0.429479  0.183251\n",
       "vacances  0.260658  0.287291\n",
       "empire    0.375444 -0.308660\n",
       "weekend   0.055976  0.302469"
      ]
     },
     "execution_count": 51,
     "metadata": {},
     "output_type": "execute_result"
    }
   ],
   "source": [
    "#word vectors (wv) = transcription en vecteurs de la liste des termes\n",
    "D =pd.DataFrame(words2.vectors, columns=['V1','V2'], index=words2.key_to_index.keys())\n",
    "D.tail()"
   ]
  },
  {
   "cell_type": "code",
   "execution_count": 52,
   "id": "f37d29de",
   "metadata": {},
   "outputs": [],
   "source": [
    "D.to_csv(\"titre.vectors.marvel.txt\",sep=\";\",header=True)"
   ]
  },
  {
   "cell_type": "code",
   "execution_count": 53,
   "id": "0a1eae1b",
   "metadata": {},
   "outputs": [
    {
     "data": {
      "text/html": [
       "<div>\n",
       "<style scoped>\n",
       "    .dataframe tbody tr th:only-of-type {\n",
       "        vertical-align: middle;\n",
       "    }\n",
       "\n",
       "    .dataframe tbody tr th {\n",
       "        vertical-align: top;\n",
       "    }\n",
       "\n",
       "    .dataframe thead th {\n",
       "        text-align: right;\n",
       "    }\n",
       "</style>\n",
       "<table border=\"1\" class=\"dataframe\">\n",
       "  <thead>\n",
       "    <tr style=\"text-align: right;\">\n",
       "      <th></th>\n",
       "      <th>V1</th>\n",
       "      <th>V2</th>\n",
       "    </tr>\n",
       "  </thead>\n",
       "  <tbody>\n",
       "    <tr>\n",
       "      <th>excellent</th>\n",
       "      <td>-0.240614</td>\n",
       "      <td>-0.089705</td>\n",
       "    </tr>\n",
       "    <tr>\n",
       "      <th>emplacement</th>\n",
       "      <td>0.372490</td>\n",
       "      <td>-0.040159</td>\n",
       "    </tr>\n",
       "    <tr>\n",
       "      <th>personnel</th>\n",
       "      <td>0.000319</td>\n",
       "      <td>-0.013956</td>\n",
       "    </tr>\n",
       "    <tr>\n",
       "      <th>merveilleux</th>\n",
       "      <td>-0.437557</td>\n",
       "      <td>-0.219421</td>\n",
       "    </tr>\n",
       "    <tr>\n",
       "      <th>mauvaise</th>\n",
       "      <td>0.082045</td>\n",
       "      <td>0.009918</td>\n",
       "    </tr>\n",
       "    <tr>\n",
       "      <th>expérience</th>\n",
       "      <td>0.144730</td>\n",
       "      <td>0.050517</td>\n",
       "    </tr>\n",
       "    <tr>\n",
       "      <th>service</th>\n",
       "      <td>0.367188</td>\n",
       "      <td>0.253831</td>\n",
       "    </tr>\n",
       "    <tr>\n",
       "      <th>cher</th>\n",
       "      <td>0.406865</td>\n",
       "      <td>-0.296802</td>\n",
       "    </tr>\n",
       "  </tbody>\n",
       "</table>\n",
       "</div>"
      ],
      "text/plain": [
       "                   V1        V2\n",
       "excellent   -0.240614 -0.089705\n",
       "emplacement  0.372490 -0.040159\n",
       "personnel    0.000319 -0.013956\n",
       "merveilleux -0.437557 -0.219421\n",
       "mauvaise     0.082045  0.009918\n",
       "expérience   0.144730  0.050517\n",
       "service      0.367188  0.253831\n",
       "cher         0.406865 -0.296802"
      ]
     },
     "execution_count": 53,
     "metadata": {},
     "output_type": "execute_result"
    }
   ],
   "source": [
    "#Mots-clés dégagés\n",
    "mots2 = ['excellent','emplacement','personnel','merveilleux','mauvaise','expérience','service','cher']\n",
    "DMots= D.loc[mots2, :]\n",
    "DMots.head(10)"
   ]
  },
  {
   "cell_type": "code",
   "execution_count": 55,
   "id": "1a39099a",
   "metadata": {},
   "outputs": [
    {
     "data": {
      "text/plain": [
       "[('confortables', 1.0),\n",
       " ('peut', 0.9999999403953552),\n",
       " ('manèges', 0.9999997019767761)]"
      ]
     },
     "execution_count": 55,
     "metadata": {},
     "output_type": "execute_result"
    }
   ],
   "source": [
    "# Cher : confortables/manège\n",
    "words.most_similar(\"cher\",topn=3)"
   ]
  },
  {
   "cell_type": "code",
   "execution_count": 56,
   "id": "19dbb3bc",
   "metadata": {},
   "outputs": [
    {
     "data": {
      "image/png": "[encoded data removed]",
      "text/plain": [
       "<Figure size 720x720 with 1 Axes>"
      ]
     },
     "metadata": {
      "needs_background": "light"
     },
     "output_type": "display_data"
    }
   ],
   "source": [
    "#graphique dans le plan\n",
    "\n",
    "plt.figure(figsize=(10, 10))\n",
    "for i in range(DMots.shape[0]):\n",
    "    plt.scatter(DMots.V1,DMots.V2,s=30)\n",
    "    plt.annotate(DMots.index[i],(DMots.V1[i],DMots.V2[i]))\n",
    "plt.show()"
   ]
  },
  {
   "cell_type": "markdown",
   "id": "fd3950ee",
   "metadata": {},
   "source": [
    "# IV. Appel à un modèle pré-entraîné d'apprentissage des termes"
   ]
  },
  {
   "cell_type": "markdown",
   "id": "54820509",
   "metadata": {},
   "source": [
    "Partage du code pour creuser au besoin les évocations associées des termes pour de futurs plans d'action. "
   ]
  },
  {
   "cell_type": "code",
   "execution_count": 57,
   "id": "dc02a978",
   "metadata": {},
   "outputs": [
    {
     "name": "stdout",
     "output_type": "stream",
     "text": [
      "119227\n"
     ]
    }
   ],
   "source": [
    "#GitHub recommandé par R.Rakotomalala. https://fauconnier. github.io/\n",
    "#Dictionnaire généraliste avec représentation spatiale des termes\n",
    "from gensim.models import keyedvectors\n",
    "trained = keyedvectors.load_word2vec_format(\"frWac_no_postag_no_phrase_500_skip_cut100.bin\", binary=True, unicode_errors='ignore')\n",
    "print(len(trained.key_to_index))"
   ]
  },
  {
   "cell_type": "markdown",
   "id": "e29f3bde",
   "metadata": {},
   "source": [
    "1 - Points forts du personnel à capitaliser (termes associés)"
   ]
  },
  {
   "cell_type": "code",
   "execution_count": 58,
   "id": "7f167508",
   "metadata": {},
   "outputs": [
    {
     "data": {
      "text/plain": [
       "[('nominatif', 0.32981908321380615),\n",
       " ('établissement', 0.32695937156677246),\n",
       " ('personnels', 0.32490742206573486),\n",
       " ('confidentialité', 0.2940655052661896),\n",
       " ('conformément', 0.29240378737449646)]"
      ]
     },
     "execution_count": 58,
     "metadata": {},
     "output_type": "execute_result"
    }
   ],
   "source": [
    "#selon ce modèle, quels sont les termes les plus similaires à \"personnel\"et qui sont clés (= retrait de \"manque\")?\n",
    "trained.most_similar(positive=['personnel'],negative=['manque'],topn=5)"
   ]
  },
  {
   "cell_type": "markdown",
   "id": "1b3c66eb",
   "metadata": {},
   "source": [
    "2-Points forts d'un spectacle (termes associés)"
   ]
  },
  {
   "cell_type": "code",
   "execution_count": 59,
   "id": "c5785ea0",
   "metadata": {},
   "outputs": [
    {
     "data": {
      "text/plain": [
       "[('théâtre', 0.4304552674293518),\n",
       " ('spectacles', 0.42559048533439636),\n",
       " ('artiste', 0.38758954405784607),\n",
       " ('circassien', 0.3834640383720398),\n",
       " ('danse', 0.36808231472969055)]"
      ]
     },
     "execution_count": 59,
     "metadata": {},
     "output_type": "execute_result"
    }
   ],
   "source": [
    "trained.most_similar(positive=['spectacle'],negative=['décevant'],topn=5)"
   ]
  },
  {
   "cell_type": "markdown",
   "id": "e5460c64",
   "metadata": {},
   "source": [
    "# V. Conclusion"
   ]
  },
  {
   "cell_type": "markdown",
   "id": "a2b433f9",
   "metadata": {},
   "source": [
    "Ce premier notebook de découverte et de test & learn de l'univers des hôtels Disney confirmerait : \n",
    "- la faisabilité de conduire les analyses sur un notebook traduit (français, langue majoritaire ; pas de différences significatives dans le présent cas - à confirmer avec les autres hôtels et parcs. Irritants liés à un incident du customer-journey,...)\n",
    "- la pertinence et la bonne maniabilité du package Word2Vec pour identifier les irritants parmi les commentaires ; moins évident dans le titre ? (synthèse du commentaire)\n",
    "Pattern pour automatiser les représentations spatiales des termes : une base se dégage. La prochaine étape est de nous appuyer sur l'ensemble des données. "
   ]
  }
 ],
 "metadata": {
  "kernelspec": {
   "display_name": "Python 3 (ipykernel)",
   "language": "python",
   "name": "python3"
  },
  "language_info": {
   "codemirror_mode": {
    "name": "ipython",
    "version": 3
   },
   "file_extension": ".py",
   "mimetype": "text/x-python",
   "name": "python",
   "nbconvert_exporter": "python",
   "pygments_lexer": "ipython3",
   "version": "3.9.12"
  }
 },
 "nbformat": 4,
 "nbformat_minor": 5
}
