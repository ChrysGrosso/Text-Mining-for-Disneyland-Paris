{
 "cells": [
  {
   "cell_type": "markdown",
   "id": "5ccdbb9a",
   "metadata": {},
   "source": [
    "# HOTELS - Analyse Verbatim-clients déposés sur Trip Advisor "
   ]
  },
  {
   "cell_type": "markdown",
   "id": "77f209db",
   "metadata": {},
   "source": [
    "(1) Préparation du répertoire et des principaux packages"
   ]
  },
  {
   "cell_type": "code",
   "execution_count": 1,
   "id": "1d13fc84",
   "metadata": {},
   "outputs": [],
   "source": [
    "import os\n",
    "os.chdir(\"C:/Disney\")"
   ]
  },
  {
   "cell_type": "code",
   "execution_count": 2,
   "id": "ea67d7e8",
   "metadata": {},
   "outputs": [
    {
     "name": "stderr",
     "output_type": "stream",
     "text": [
      "[nltk_data] Downloading package wordnet to\n",
      "[nltk_data]     C:\\Users\\chrys\\AppData\\Roaming\\nltk_data...\n",
      "[nltk_data]   Package wordnet is already up-to-date!\n"
     ]
    },
    {
     "name": "stdout",
     "output_type": "stream",
     "text": [
      "4.1.2\n"
     ]
    }
   ],
   "source": [
    "import pandas as pd\n",
    "import numpy as np\n",
    "import matplotlib.pyplot as plt\n",
    "import nltk\n",
    "nltk.download('wordnet')\n",
    "import gensim\n",
    "print(gensim.__version__)"
   ]
  },
  {
   "cell_type": "markdown",
   "id": "8bb14666",
   "metadata": {},
   "source": [
    "# I. Analyses préparatoires avec les avis sur l'hôtel Marvel"
   ]
  },
  {
   "cell_type": "markdown",
   "id": "c17964ca",
   "metadata": {},
   "source": [
    "**Objectif : test& learn** -> réaliser les premières analyses sur un petit fichier comprenant uniquement des avis récents avant de généraliser sur les autres hôtels."
   ]
  },
  {
   "cell_type": "markdown",
   "id": "9631a392",
   "metadata": {},
   "source": [
    "**(1) Premières visualisations du fichier**\n",
    "préalablement traduit et nettoyé avec les dictionnaires stop of words de la librairie ntlk (cf.notre fonction de nettoyage)"
   ]
  },
  {
   "cell_type": "code",
   "execution_count": 3,
   "id": "0dafc352",
   "metadata": {},
   "outputs": [
    {
     "name": "stdout",
     "output_type": "stream",
     "text": [
      "<class 'pandas.core.frame.DataFrame'>\n",
      "RangeIndex: 440 entries, 0 to 439\n",
      "Data columns (total 8 columns):\n",
      " #   Column             Non-Null Count  Dtype \n",
      "---  ------             --------------  ----- \n",
      " 0   titre_commentaire  440 non-null    object\n",
      " 1   commentaire        440 non-null    object\n",
      " 2   Date               440 non-null    object\n",
      " 3   Ville              440 non-null    object\n",
      " 4   Pays               440 non-null    object\n",
      " 5   Note               440 non-null    int64 \n",
      " 6   Photo              440 non-null    object\n",
      " 7   langue             440 non-null    object\n",
      "dtypes: int64(1), object(7)\n",
      "memory usage: 27.6+ KB\n"
     ]
    }
   ],
   "source": [
    "marvel=pd.read_csv(\"hotel_marvel_clean.csv\", sep=\",\")\n",
    "marvel.info( ) #439 avis"
   ]
  },
  {
   "cell_type": "code",
   "execution_count": 4,
   "id": "fcef53ce",
   "metadata": {},
   "outputs": [
    {
     "data": {
      "text/html": [
       "<div>\n",
       "<style scoped>\n",
       "    .dataframe tbody tr th:only-of-type {\n",
       "        vertical-align: middle;\n",
       "    }\n",
       "\n",
       "    .dataframe tbody tr th {\n",
       "        vertical-align: top;\n",
       "    }\n",
       "\n",
       "    .dataframe thead th {\n",
       "        text-align: right;\n",
       "    }\n",
       "</style>\n",
       "<table border=\"1\" class=\"dataframe\">\n",
       "  <thead>\n",
       "    <tr style=\"text-align: right;\">\n",
       "      <th></th>\n",
       "      <th>titre_commentaire</th>\n",
       "      <th>commentaire</th>\n",
       "      <th>Date</th>\n",
       "      <th>Ville</th>\n",
       "      <th>Pays</th>\n",
       "      <th>Note</th>\n",
       "      <th>Photo</th>\n",
       "      <th>langue</th>\n",
       "    </tr>\n",
       "  </thead>\n",
       "  <tbody>\n",
       "    <tr>\n",
       "      <th>0</th>\n",
       "      <td>['super', 'hôtel', 'thème', 'marvel', 'disneyl...</td>\n",
       "      <td>['super', 'hôtel', 'thème', 'marvel', 'décors'...</td>\n",
       "      <td>déc 2022</td>\n",
       "      <td>Valenciennes</td>\n",
       "      <td>France</td>\n",
       "      <td>5</td>\n",
       "      <td>yes</td>\n",
       "      <td>fr</td>\n",
       "    </tr>\n",
       "    <tr>\n",
       "      <th>1</th>\n",
       "      <td>['attendais', 'mieux']</td>\n",
       "      <td>['peu', 'déçue', 'hôtel', 'très', 'belle', 'ch...</td>\n",
       "      <td>nov 2022</td>\n",
       "      <td>None</td>\n",
       "      <td>None</td>\n",
       "      <td>4</td>\n",
       "      <td>no</td>\n",
       "      <td>fr</td>\n",
       "    </tr>\n",
       "    <tr>\n",
       "      <th>2</th>\n",
       "      <td>['ravie']</td>\n",
       "      <td>['avon', 'vraiment', 'apprécié', 'nuit', 'cet'...</td>\n",
       "      <td>nov 2022</td>\n",
       "      <td>None</td>\n",
       "      <td>None</td>\n",
       "      <td>4</td>\n",
       "      <td>no</td>\n",
       "      <td>fr</td>\n",
       "    </tr>\n",
       "    <tr>\n",
       "      <th>3</th>\n",
       "      <td>['avis', 'mitigé']</td>\n",
       "      <td>['bel', 'hôtel', 'neuf', 'magique', 'yeux', 'e...</td>\n",
       "      <td>nov 2022</td>\n",
       "      <td>Calvi</td>\n",
       "      <td>France</td>\n",
       "      <td>3</td>\n",
       "      <td>no</td>\n",
       "      <td>fr</td>\n",
       "    </tr>\n",
       "    <tr>\n",
       "      <th>4</th>\n",
       "      <td>['fabuleux']</td>\n",
       "      <td>['superbe', 'accueil', 'castmembers', 'récepti...</td>\n",
       "      <td>nov 2022</td>\n",
       "      <td>Toulouse</td>\n",
       "      <td>France</td>\n",
       "      <td>5</td>\n",
       "      <td>yes</td>\n",
       "      <td>fr</td>\n",
       "    </tr>\n",
       "  </tbody>\n",
       "</table>\n",
       "</div>"
      ],
      "text/plain": [
       "                                   titre_commentaire  \\\n",
       "0  ['super', 'hôtel', 'thème', 'marvel', 'disneyl...   \n",
       "1                             ['attendais', 'mieux']   \n",
       "2                                          ['ravie']   \n",
       "3                                 ['avis', 'mitigé']   \n",
       "4                                       ['fabuleux']   \n",
       "\n",
       "                                         commentaire      Date         Ville  \\\n",
       "0  ['super', 'hôtel', 'thème', 'marvel', 'décors'...  déc 2022  Valenciennes   \n",
       "1  ['peu', 'déçue', 'hôtel', 'très', 'belle', 'ch...  nov 2022          None   \n",
       "2  ['avon', 'vraiment', 'apprécié', 'nuit', 'cet'...  nov 2022          None   \n",
       "3  ['bel', 'hôtel', 'neuf', 'magique', 'yeux', 'e...  nov 2022         Calvi   \n",
       "4  ['superbe', 'accueil', 'castmembers', 'récepti...  nov 2022      Toulouse   \n",
       "\n",
       "      Pays  Note Photo langue  \n",
       "0   France     5   yes     fr  \n",
       "1     None     4    no     fr  \n",
       "2     None     4    no     fr  \n",
       "3   France     3    no     fr  \n",
       "4   France     5   yes     fr  "
      ]
     },
     "execution_count": 4,
     "metadata": {},
     "output_type": "execute_result"
    }
   ],
   "source": [
    "#visualisation des premières lignes\n",
    "marvel.head()"
   ]
  },
  {
   "cell_type": "code",
   "execution_count": 5,
   "id": "8ff2aba4",
   "metadata": {},
   "outputs": [
    {
     "data": {
      "text/plain": [
       "439    juin 2022\n",
       "Name: Date, dtype: object"
      ]
     },
     "execution_count": 5,
     "metadata": {},
     "output_type": "execute_result"
    }
   ],
   "source": [
    "#Le fichier comprend des avis datés entre juin 2021 et décembre 2022\n",
    "marvel['Date'].tail(1)"
   ]
  },
  {
   "cell_type": "code",
   "execution_count": 6,
   "id": "aede9b30",
   "metadata": {},
   "outputs": [],
   "source": [
    "#Comptage des mots pour se donner une première idée des thèmes et d'un nettoyage complémentaire éventuel à opérer\n",
    "import re\n",
    "import collections"
   ]
  },
  {
   "cell_type": "code",
   "execution_count": 7,
   "id": "80e6c3ba",
   "metadata": {},
   "outputs": [
    {
     "data": {
      "text/plain": [
       "0    ['super', 'hôtel', 'thème', 'marvel', 'disneyl...\n",
       "1                               ['attendais', 'mieux']\n",
       "2                                            ['ravie']\n",
       "3                                   ['avis', 'mitigé']\n",
       "4                                         ['fabuleux']\n",
       "Name: titre_commentaire, dtype: object"
      ]
     },
     "execution_count": 7,
     "metadata": {},
     "output_type": "execute_result"
    }
   ],
   "source": [
    "# titre \n",
    "t=marvel['titre_commentaire']\n",
    "t.head()"
   ]
  },
  {
   "cell_type": "code",
   "execution_count": 263,
   "id": "755bc121",
   "metadata": {},
   "outputs": [
    {
     "data": {
      "text/plain": [
       "0    ['super', 'hôtel', 'thème', 'marvel', 'décors'...\n",
       "1    ['peu', 'déçue', 'hôtel', 'très', 'belle', 'ch...\n",
       "2    ['avon', 'vraiment', 'apprécié', 'nuit', 'cet'...\n",
       "Name: commentaire, dtype: object"
      ]
     },
     "execution_count": 263,
     "metadata": {},
     "output_type": "execute_result"
    }
   ],
   "source": [
    "# commentaire\n",
    "tx=marvel['commentaire']\n",
    "tx.head(3)"
   ]
  },
  {
   "cell_type": "markdown",
   "id": "386fb487",
   "metadata": {},
   "source": [
    "# II. Répartition des profils-clients : le français en langue d'analyse fait sens."
   ]
  },
  {
   "cell_type": "markdown",
   "id": "cfe45021",
   "metadata": {},
   "source": [
    "(1). Langue du commentaire : plus de la moitié de francophones, suivis assez loin par les anglophones (près de 2 fois moins). "
   ]
  },
  {
   "cell_type": "code",
   "execution_count": 227,
   "id": "00b06b8c",
   "metadata": {},
   "outputs": [
    {
     "data": {
      "text/plain": [
       "<AxesSubplot:xlabel=\"Langue de l'avis\", ylabel='Nombre de répondants'>"
      ]
     },
     "execution_count": 227,
     "metadata": {},
     "output_type": "execute_result"
    },
    {
     "data": {
      "image/png": "[encoded data removed]",
      "text/plain": [
       "<Figure size 432x288 with 1 Axes>"
      ]
     },
     "metadata": {
      "needs_background": "light"
     },
     "output_type": "display_data"
    }
   ],
   "source": [
    "comptage=marvel['langue'].value_counts()\n",
    "comptage.plot(kind='bar',stacked=True,ylabel=\"Nombre de répondants\",xlabel=\"Langue de l'avis\")"
   ]
  },
  {
   "cell_type": "markdown",
   "id": "88271994",
   "metadata": {},
   "source": [
    "(2). Les 2 graphiques suivants indiquent qu'il n'y a pas de différences significatives en matière de ventilation des notes selon que l'avis provient d'un francophone ou non (1er graphique).\n",
    "Les répartitions des notes principalement données sont '4' et '5' chez les principales clientèles, elles sont même identiques chez les francophones et les Italiens (2è graphique). "
   ]
  },
  {
   "cell_type": "code",
   "execution_count": 189,
   "id": "65bb8454",
   "metadata": {},
   "outputs": [
    {
     "data": {
      "text/plain": [
       "<AxesSubplot:ylabel='langue'>"
      ]
     },
     "execution_count": 189,
     "metadata": {},
     "output_type": "execute_result"
    },
    {
     "data": {
      "image/png": "[encoded data removed]",
      "text/plain": [
       "<Figure size 432x288 with 1 Axes>"
      ]
     },
     "metadata": {
      "needs_background": "light"
     },
     "output_type": "display_data"
    }
   ],
   "source": [
    "T=pd.crosstab(marvel['langue']=='fr',marvel['Note'], normalize='index')\n",
    "T.plot.barh()"
   ]
  },
  {
   "cell_type": "code",
   "execution_count": 194,
   "id": "6aacf92b",
   "metadata": {},
   "outputs": [
    {
     "data": {
      "text/plain": [
       "Note    AxesSubplot(0.125,0.125;0.775x0.755)\n",
       "dtype: object"
      ]
     },
     "execution_count": 194,
     "metadata": {},
     "output_type": "execute_result"
    },
    {
     "data": {
      "image/png": "[encoded data removed]",
      "text/plain": [
       "<Figure size 432x288 with 1 Axes>"
      ]
     },
     "metadata": {
      "needs_background": "light"
     },
     "output_type": "display_data"
    }
   ],
   "source": [
    "#Boîte de Turkey\n",
    "color=dict(boxes='green',whiskers='DarkOrange',medians='DarkBlue',caps='Black')\n",
    "marvel.plot.box(column='Note',by='langue',color=color,sym='r+',vert=False)"
   ]
  },
  {
   "cell_type": "markdown",
   "id": "32884ec3",
   "metadata": {},
   "source": [
    "(3). Ventilation des notes"
   ]
  },
  {
   "cell_type": "code",
   "execution_count": 246,
   "id": "4b385c23",
   "metadata": {},
   "outputs": [
    {
     "data": {
      "image/png": "[encoded data removed]",
      "text/plain": [
       "<Figure size 432x432 with 1 Axes>"
      ]
     },
     "metadata": {},
     "output_type": "display_data"
    }
   ],
   "source": [
    "plt.figure(figsize=(6, 6))\n",
    "cols = ['b','c','y','orange','r']\n",
    "marvel['Note'].value_counts().plot.pie(autopct='%1.1f%%', shadow= True,colors=cols)\n",
    "plt.show()"
   ]
  },
  {
   "cell_type": "markdown",
   "id": "c77342d0",
   "metadata": {},
   "source": [
    "# III.Word2Vec avec Gensim"
   ]
  },
  {
   "cell_type": "markdown",
   "id": "c3e06702",
   "metadata": {},
   "source": [
    "**(1) Cas d'usage sur les commentaires : visualisation de la procédure de nettoyage et de tokenisation des verbatim**."
   ]
  },
  {
   "cell_type": "markdown",
   "id": "93669d5d",
   "metadata": {},
   "source": [
    "Nous détaillons ici la préparation des données pour la vectorisation, embarquée sous forme automatisée dans notre fonction de nettoyage : retrait des ponctuations, tokenisation, lemmatisation.\n",
    "Les fichiers en soi sont utilisables directement pour procéder à la vectorisation. "
   ]
  },
  {
   "cell_type": "code",
   "execution_count": 117,
   "id": "3950170e",
   "metadata": {},
   "outputs": [
    {
     "name": "stdout",
     "output_type": "stream",
     "text": [
      "['récemment', 'passé', 'deux', 'nuits', 'cet', 'hôtel', 'apprécié', 'séjour', 'fan', 'marvel', 'hôtel', 'incontournable', 'imo', 'thème', 'hôtel', 'super', 'cool', 'personnel', 'formidable', 'aussi', 'hôtel', 'peu', 'cher', 'pourquoi', 'noté', 'valeur', 'donné', 'service', 'lié', 'ménage', 'obtenir', 'ménage', 'laisser', 'café', 'supplémentaire', 'eau', 'café', 'donne', 'approvisionnement', 'minimal', 'réapprovisionné', 'pendant', 'séjour', 'cela', 'semblait', 'idiot', 'prix', 'chambre', 'pouvais', 'obtenir', 'quelques', 'dosettes', 'supplémentaires', 'café', 'petite', 'crèmes', 'sucre']\n"
     ]
    }
   ],
   "source": [
    "#récupération sous forme de liste \n",
    "corpus=tx.tolist()\n",
    "print(corpus[50])"
   ]
  },
  {
   "cell_type": "code",
   "execution_count": 13,
   "id": "31db96ad",
   "metadata": {},
   "outputs": [
    {
     "name": "stdout",
     "output_type": "stream",
     "text": [
      "['passé', 'nuits', 'enfants', 'hôtel', 'incroyable', 'garçons', 'aiment', 'merveilles', 'seul', 'dommage', 'avon', 'raté', 'ouverture', 'campus', 'avenger', 'adoré', 'station', 'superhéros', 'hôtel', 'toutes', 'œuvres', 'art', 'merveilleuses', 'hôtel', 'proche', 'pouvions', 'faire', 'première', 'heure', 'parc', 'puis', 'revenir', 'petit', 'déjeuner', 'tout', 'personnel', 'très', 'sympathique', 'voyage', 'unique', 'souvenir', 'spéciaux', 'créés']\n"
     ]
    }
   ],
   "source": [
    "# (1) Passage en minuscules\n",
    "corpus=[doc.lower() for doc in corpus]\n",
    "print(corpus[100])"
   ]
  },
  {
   "cell_type": "code",
   "execution_count": 248,
   "id": "9b84d854",
   "metadata": {},
   "outputs": [],
   "source": [
    "# (2) retrait des ponctuations\n",
    "import string\n",
    "ponctuations= list(string.punctuation)"
   ]
  },
  {
   "cell_type": "code",
   "execution_count": 15,
   "id": "378c6d28",
   "metadata": {},
   "outputs": [
    {
     "name": "stdout",
     "output_type": "stream",
     "text": [
      "habitué disneyland hôtel somme rabattus celuici car disney village parc accessible pied arrivée hall majestueux sublimes dessins hauteur sou plafond impressionnante check peu long long heure covid bref récupérons direction parc plus recevez quand chambre prête code accès ouvrir porte soir arrivée découvrons sublime chambre beaucoup petite attention chocolats macarons bonbon cadeaux effigie hôte enfants sac gourde bref hésitez plus réserver sans hésiter surtout enfants fan héros marvel chez fille plutôt princesse fils grandit…\n"
     ]
    }
   ],
   "source": [
    "corpus= [\"\".join([char for char in list (doc) if not (char in ponctuations)]) for doc in corpus]\n",
    "print(corpus[200])"
   ]
  },
  {
   "cell_type": "code",
   "execution_count": 16,
   "id": "0ca3d9ec",
   "metadata": {},
   "outputs": [
    {
     "name": "stdout",
     "output_type": "stream",
     "text": [
      "['voyage', 'disney', 'première', 'fois', 'séjournais', 'hny', 'dîné', 'ici', 'avant', 'rénovations', 'très', 'impressionné', 'hôtel', 'rénovations', 'thématique', 'marvel', 'excellente', 'somme', 'arrivés', 'heure', 'déjeuner', 'avon', 'ravis', 'apprendre', 'chambre', 'prête', 'chambre', 'propre', 'moderne', 'spacieuse', 'personnel', 'excellent', 'partout', 'rien', 'trop', 'demander', 'problème', 'mineur', 'laissezpasser', 'magiques', 'arrivée', 'dame', 'réception', 'rapidement', 'réglé', 'problème', 'plan', 'repas', 'disney', 'avon', 'pris', 'petit', 'déjeuner', 'dîner', 'hôtel', 'tous', 'deux', 'excellents', 'beaucoup', 'choix', 'nourriture', 'chaude', 'etc', 'enfants', 'adoré', 'avantage', 'station', 'superhéros', 'équipement', 'merveilleux', 'piscine', 'également', 'plu', 'piscine', 'immense', 'peutêtre', 'peu', 'froide', 'problème', 'la…']\n"
     ]
    }
   ],
   "source": [
    "#(2)\n",
    "#transformer les corpus en liste de liste (les documents)\n",
    "#par tokenisation\n",
    "from nltk.tokenize import word_tokenize\n",
    "corpus_tk=[word_tokenize(doc) for doc in corpus]\n",
    "print(corpus_tk[17])"
   ]
  },
  {
   "cell_type": "code",
   "execution_count": 17,
   "id": "f94a7510",
   "metadata": {},
   "outputs": [
    {
     "name": "stdout",
     "output_type": "stream",
     "text": [
      "['fantastique', 'hôtel', 'marvel', 'new', 'york', 'près', 'parc', 'chambres', 'assez', 'propres', 'détail', 'quand', 'reviennent', 'aprèsmidi', 'super', 'soulignerais', 'boutiqueboutique', 'downtown', 'espace', 'enfants', 'peuvent', 'dessiner', 'acheté', 'désodorisant', 'hôtel', 'maison', 'sent', 'bon', 'point', 'améliorer', 'dirais', 'pourraient', 'être', 'peu', 'plus', 'agiles', 'moment', 'file', 'attente', 'entrer', 'restaurant', 'prix', 'très', 'élevé', 'tout', 'monde', 'peut', 'permettre']\n"
     ]
    }
   ],
   "source": [
    "#(3)\n",
    "#lemmatisation (rapprocher les mots de la même famille \"est\", \"es\"= être))\n",
    "from nltk.stem import WordNetLemmatizer\n",
    "lem =WordNetLemmatizer()\n",
    "corpus_lm=[[lem.lemmatize(mot) for mot in doc] for doc in corpus_tk]\n",
    "print(corpus_lm[8])"
   ]
  },
  {
   "cell_type": "markdown",
   "id": "c8729173",
   "metadata": {},
   "source": [
    "**Retrait des mots vides : les stopwords du package comprennent 179 mots vides fréquents. Nous allons compléter la liste manuellement : certains mots vides comme pourtant arrivent dans le haut du classement et créent du bruit pour les mots utiles**"
   ]
  },
  {
   "cell_type": "code",
   "execution_count": 244,
   "id": "e9f4a4b9",
   "metadata": {},
   "outputs": [
    {
     "name": "stdout",
     "output_type": "stream",
     "text": [
      "207\n"
     ]
    },
    {
     "name": "stderr",
     "output_type": "stream",
     "text": [
      "[nltk_data] Downloading package stopwords to\n",
      "[nltk_data]     C:\\Users\\chrys\\AppData\\Roaming\\nltk_data...\n",
      "[nltk_data]   Package stopwords is already up-to-date!\n"
     ]
    }
   ],
   "source": [
    "#(4) charger les stopwords (179 dans la liste initiale), compléter de qq mots vides courants pourtant non répertoriés\n",
    "# qui arrivent pour certains dans le top des mots les plus fréquents dans les verbatim (ex:\"pourtant\",\"cet\",\"dessus\"),\n",
    "# et ajouter ceux propres à Disney et à l'hôtel (marvel, disney)\n",
    "#from nltk.corpus import stopwords\n",
    "nltk.download('stopwords')\n",
    "mots_vides = stopwords.words('french')+ [\"marvel\",\"disney\",\"disneyland\",\"hny\",\"new\",\"york\",\"la…\",\"pourtant\",\"car\",\"cependant\",\"toutefois\", \"néanmoins\", \"grâce\",\"auron\",\"avon\",\"cela\",\"cet\",\"tout\",\"donc\",\"le…\",\"dès\",\"déjà\",\"bref\",\"jusqu\",\"malgré\",\"ceux\",\"vers\",\"plutôt\",\"etc\",\"tant\",\"entre\",\"puis\",\"leurs\",\"ensuite\",\"afin\",\"parce\",\"estàdire\",\"luimême\",\"sen\",\"quelle\",\"ailleurs\",\"dessus\",\"avoir\",\"oui\",\"newyork\",\"appelle\",\"peuvent\",\"pourraient\",\"littéralement\",\"devenu\"] \n",
    "print(len(mots_vides)) #207 mots vide retirés en tout"
   ]
  },
  {
   "cell_type": "code",
   "execution_count": 249,
   "id": "09ce2491",
   "metadata": {},
   "outputs": [],
   "source": [
    "#suppresion des mots vides\n",
    "corpus_sw=[[mot for mot in doc if not (mot in mots_vides)] for doc in corpus_lm]"
   ]
  },
  {
   "cell_type": "code",
   "execution_count": 250,
   "id": "151f99cc",
   "metadata": {},
   "outputs": [],
   "source": [
    "#suppression des chiffres\n",
    "chiffres = list(\"0123456789\")\n",
    "corpus_su=[[mot for mot in doc if not (mot in chiffres)] for doc in corpus_sw]"
   ]
  },
  {
   "cell_type": "code",
   "execution_count": 251,
   "id": "e0eb0df0",
   "metadata": {},
   "outputs": [],
   "source": [
    "#(5) retirer les mots de moins de 3 lettres\n",
    "corpus_sw=[[mot for mot in doc if len(mot) >= 3] for doc in corpus_su]"
   ]
  },
  {
   "cell_type": "markdown",
   "id": "d7873ac6",
   "metadata": {},
   "source": [
    "**(2) Vectorisation** \n",
    "\n",
    "Nous partons sur un vecteur à 2 dimensions pour réaliser les graphiques de représentation spatiale des termes."
   ]
  },
  {
   "cell_type": "code",
   "execution_count": 23,
   "id": "527da65d",
   "metadata": {},
   "outputs": [
    {
     "data": {
      "text/plain": [
       "gensim.models.word2vec.Word2Vec"
      ]
     },
     "execution_count": 23,
     "metadata": {},
     "output_type": "execute_result"
    }
   ],
   "source": [
    "#word2vec\n",
    "from gensim.models import Word2Vec\n",
    "modele = Word2Vec(corpus_sw,vector_size=2,window=5) #size = 2 ; 2 axes #window= 5 termes-voisins\n",
    "type(modele)"
   ]
  },
  {
   "cell_type": "code",
   "execution_count": 24,
   "id": "de97a632",
   "metadata": {},
   "outputs": [
    {
     "name": "stdout",
     "output_type": "stream",
     "text": [
      "<class 'gensim.models.keyedvectors.KeyedVectors'>\n"
     ]
    }
   ],
   "source": [
    "#word vectors (wv) = transcription en vecteurs de la liste des termes\n",
    "words= modele.wv\n",
    "print(type(words))"
   ]
  },
  {
   "cell_type": "code",
   "execution_count": 25,
   "id": "0258f45c",
   "metadata": {},
   "outputs": [],
   "source": [
    "#dir(words)"
   ]
  },
  {
   "cell_type": "code",
   "execution_count": 276,
   "id": "39e2bde5",
   "metadata": {},
   "outputs": [],
   "source": [
    "#words.key_to_index"
   ]
  },
  {
   "cell_type": "markdown",
   "id": "9d7347d3",
   "metadata": {},
   "source": [
    "**Les dimensions** : 815 termes et matrice à 2 dimensions (comme demandé plus haut)"
   ]
  },
  {
   "cell_type": "code",
   "execution_count": 27,
   "id": "8cd6510b",
   "metadata": {},
   "outputs": [
    {
     "data": {
      "text/plain": [
       "(813, 2)"
      ]
     },
     "execution_count": 27,
     "metadata": {},
     "output_type": "execute_result"
    }
   ],
   "source": [
    "words.vectors.shape"
   ]
  },
  {
   "cell_type": "markdown",
   "id": "e69a47c0",
   "metadata": {},
   "source": [
    "**(3) Recherche des points de friction vs des points porteurs de satisfaction**"
   ]
  },
  {
   "cell_type": "markdown",
   "id": "cefc4e8f",
   "metadata": {},
   "source": [
    "**a-Regardons les coordonnées de quelques mots marquants parmi les plus fréquents antinomiques de prime abord comme décevant et magic ->** \n",
    "Dans quelle mesure sont-ils proches dans l'espace de représentation ? "
   ]
  },
  {
   "cell_type": "code",
   "execution_count": 57,
   "id": "3bd7f0dd",
   "metadata": {},
   "outputs": [
    {
     "name": "stdout",
     "output_type": "stream",
     "text": [
      "[0.5221672  0.26961017]\n"
     ]
    }
   ],
   "source": [
    "#coordonnées de magic\n",
    "vec1=words['magic']\n",
    "print(vec1)"
   ]
  },
  {
   "cell_type": "code",
   "execution_count": 29,
   "id": "c9667209",
   "metadata": {},
   "outputs": [
    {
     "name": "stdout",
     "output_type": "stream",
     "text": [
      "[0.35077918 0.5899751 ]\n"
     ]
    }
   ],
   "source": [
    "#coordonnées de décevant\n",
    "vec2=words['décevant']\n",
    "print(vec2)"
   ]
  },
  {
   "cell_type": "markdown",
   "id": "ea31da09",
   "metadata": {},
   "source": [
    "Les 2 termes **\"Magic\" et \"Décevant\"** sont assez proches dans l'espace de représentation (0.84). iso pour magique (=magic)."
   ]
  },
  {
   "cell_type": "code",
   "execution_count": 58,
   "id": "a460f156",
   "metadata": {},
   "outputs": [
    {
     "name": "stdout",
     "output_type": "stream",
     "text": [
      "0.8484447\n"
     ]
    }
   ],
   "source": [
    "#smilarité cosinus -- formule (produit scalaire des 2 vecteurs divisé par le produit des normes)\n",
    "print(np.dot(vec1,vec2)/(np.linalg.norm(vec1)*np.linalg.norm(vec2)))"
   ]
  },
  {
   "cell_type": "code",
   "execution_count": 54,
   "id": "052a4df5",
   "metadata": {},
   "outputs": [
    {
     "data": {
      "text/plain": [
       "0.99492687"
      ]
     },
     "execution_count": 54,
     "metadata": {},
     "output_type": "execute_result"
    }
   ],
   "source": [
    "#magique/magic : 2 termes similaires\n",
    "words.similarity(\"magique\",\"magic\")"
   ]
  },
  {
   "cell_type": "markdown",
   "id": "8071152b",
   "metadata": {},
   "source": [
    "**Qu'en est-il de \"peluches\" et de \"magic\"/\"magique\"?**\n",
    "les termes sont quasiment superposés (0.94)"
   ]
  },
  {
   "cell_type": "code",
   "execution_count": 31,
   "id": "5bc84f70",
   "metadata": {},
   "outputs": [
    {
     "data": {
      "text/plain": [
       "0.9391123"
      ]
     },
     "execution_count": 31,
     "metadata": {},
     "output_type": "execute_result"
    }
   ],
   "source": [
    "#utilisation de la similarité cosinus embarquée dans le package gensim\n",
    "words.similarity(\"peluches\",\"magic\")"
   ]
  },
  {
   "cell_type": "markdown",
   "id": "566a1747",
   "metadata": {},
   "source": [
    "**b- NETTOYAGE, CALME, GATEAU, SPECTACLE, EQUIPEMENTS POUR BEBE et l'EMPLACEMENT (=ASSOCIE A \"PROBLEME\") en points de friction**\n",
    "\n",
    "1- les termes les plus proches de la conjonction \"magic\" /\"magique\" et \"décevant\"** sont \"nettoyage\" et \"calme\". Il semble exister également une zone de déception à l'égard des gâteaux."
   ]
  },
  {
   "cell_type": "code",
   "execution_count": 62,
   "id": "1c33cdb6",
   "metadata": {},
   "outputs": [
    {
     "name": "stdout",
     "output_type": "stream",
     "text": [
      "[('nettoyage', 0.9999993443489075), ('calme', 0.9999990463256836)]\n"
     ]
    }
   ],
   "source": [
    "#les mots les plus proches de la conjonction de \"décevant\" et de \"magic\": calme, négatif, nettoyage,revenus\n",
    "print(words.most_similar(positive=[\"magic\",\"décevant\"],topn=2))"
   ]
  },
  {
   "cell_type": "code",
   "execution_count": 89,
   "id": "cf1773bf",
   "metadata": {},
   "outputs": [
    {
     "name": "stdout",
     "output_type": "stream",
     "text": [
      "[('déçue', 0.9998846054077148), ('gâteau', 0.999585747718811), ('voulions', 0.998845636844635)]\n"
     ]
    }
   ],
   "source": [
    "#les mots les plus proches de \"magique\" et les plus éloignés de \"décevant\": intéressant de noter que \"déçue\", \"voulions\" et \"gâteau\"\n",
    "#proches de \"magique\": attentes non concrétisées pour quelques clients (cf. la marque du féminin - verbatim potneitllement isolé)\n",
    "print(words.most_similar(positive=[\"magique\"],negative =[\"décevant\"],topn=3))"
   ]
  },
  {
   "cell_type": "markdown",
   "id": "83402d00",
   "metadata": {},
   "source": [
    "2- forte proximité entre **\"artifice (ou spectacle) et \"Décevant\" (0.99)**.  Artifice est en effet synonyme de \"spectacle\"(près de 1 de proximité) => référence au feu d'artifice qui déçoit une partie de la clientèle. **Décevant a également une proximité de 0.99 avec \"poussière\"**. "
   ]
  },
  {
   "cell_type": "code",
   "execution_count": 53,
   "id": "c7f51982",
   "metadata": {},
   "outputs": [
    {
     "data": {
      "text/plain": [
       "0.99764264"
      ]
     },
     "execution_count": 53,
     "metadata": {},
     "output_type": "execute_result"
    }
   ],
   "source": [
    "words.similarity(\"artifice\",\"spectacle\")"
   ]
  },
  {
   "cell_type": "code",
   "execution_count": 70,
   "id": "002c8935",
   "metadata": {},
   "outputs": [
    {
     "data": {
      "text/plain": [
       "0.9963194"
      ]
     },
     "execution_count": 70,
     "metadata": {},
     "output_type": "execute_result"
    }
   ],
   "source": [
    "words.similarity(\"spectacle\",\"décevant\")"
   ]
  },
  {
   "cell_type": "code",
   "execution_count": 92,
   "id": "69fe90e8",
   "metadata": {},
   "outputs": [
    {
     "data": {
      "text/plain": [
       "0.96167886"
      ]
     },
     "execution_count": 92,
     "metadata": {},
     "output_type": "execute_result"
    }
   ],
   "source": [
    "words.similarity(\"décevant\",\"nettoyage\")"
   ]
  },
  {
   "cell_type": "code",
   "execution_count": 93,
   "id": "0ce6cd84",
   "metadata": {},
   "outputs": [
    {
     "data": {
      "text/plain": [
       "0.99617004"
      ]
     },
     "execution_count": 93,
     "metadata": {},
     "output_type": "execute_result"
    }
   ],
   "source": [
    "words.similarity(\"décevant\",\"poussière\")"
   ]
  },
  {
   "cell_type": "markdown",
   "id": "5b5fb00a",
   "metadata": {},
   "source": [
    "3 - \"Manquait\" : l'analyse de proximité indiquerait qu'il manque des équipements pour bébé."
   ]
  },
  {
   "cell_type": "code",
   "execution_count": 44,
   "id": "c9660e62",
   "metadata": {},
   "outputs": [
    {
     "data": {
      "text/plain": [
       "[('plupart', 0.9999938011169434),\n",
       " ('disposition', 0.999859631061554),\n",
       " ('varié', 0.9984535574913025),\n",
       " ('équipement', 0.9974699020385742),\n",
       " ('bébé', 0.9970570206642151)]"
      ]
     },
     "execution_count": 44,
     "metadata": {},
     "output_type": "execute_result"
    }
   ],
   "source": [
    "#les termes les plus proches de \"Manquait\" : équipements pour bébé ?\n",
    "words.most_similar(\"manquait\",topn=5) #les mots les plus proches de la conjonction de \"décevant\" et de \"magic\""
   ]
  },
  {
   "cell_type": "code",
   "execution_count": 88,
   "id": "5a0e3819",
   "metadata": {},
   "outputs": [
    {
     "data": {
      "text/plain": [
       "0.9999825"
      ]
     },
     "execution_count": 88,
     "metadata": {},
     "output_type": "execute_result"
    }
   ],
   "source": [
    "# La distance de l'hôtel par rapport aux attractions du parc a été cité comme un problème\n",
    "words.similarity(\"emplacement\",\"problème\")"
   ]
  },
  {
   "cell_type": "markdown",
   "id": "dcd95635",
   "metadata": {},
   "source": [
    "**(4). Récupération des données dans un data frame pour creuser les proximités vectorielles et préparer les graphiques discriminants.** "
   ]
  },
  {
   "cell_type": "code",
   "execution_count": 38,
   "id": "3fead3eb",
   "metadata": {},
   "outputs": [
    {
     "name": "stdout",
     "output_type": "stream",
     "text": [
      "                 V1        V2\n",
      "hôtel      3.687934  2.287277\n",
      "très       3.501058  2.407692\n",
      "chambre    3.639821  2.157707\n",
      "personnel  3.425386  2.272157\n",
      "chambres   3.134263  1.869806\n",
      "...             ...       ...\n",
      "important  0.100936  0.327621\n",
      "manquait   0.387830 -0.146902\n",
      "sauf       0.844890  0.595525\n",
      "revenus    0.528411  0.490517\n",
      "artifice   0.413250  0.722984\n",
      "\n",
      "[813 rows x 2 columns]\n"
     ]
    }
   ],
   "source": [
    "df =pd.DataFrame(words.vectors, columns=['V1','V2'], index=words.key_to_index.keys())\n",
    "print(df)"
   ]
  },
  {
   "cell_type": "code",
   "execution_count": 39,
   "id": "ce712a79",
   "metadata": {},
   "outputs": [],
   "source": [
    "df.to_csv(\"words.vectors.marvel.txt\",sep=\";\",header=True)"
   ]
  },
  {
   "cell_type": "code",
   "execution_count": 242,
   "id": "33ff1b36",
   "metadata": {},
   "outputs": [
    {
     "data": {
      "text/html": [
       "<div>\n",
       "<style scoped>\n",
       "    .dataframe tbody tr th:only-of-type {\n",
       "        vertical-align: middle;\n",
       "    }\n",
       "\n",
       "    .dataframe tbody tr th {\n",
       "        vertical-align: top;\n",
       "    }\n",
       "\n",
       "    .dataframe thead th {\n",
       "        text-align: right;\n",
       "    }\n",
       "</style>\n",
       "<table border=\"1\" class=\"dataframe\">\n",
       "  <thead>\n",
       "    <tr style=\"text-align: right;\">\n",
       "      <th></th>\n",
       "      <th>V1</th>\n",
       "      <th>V2</th>\n",
       "    </tr>\n",
       "  </thead>\n",
       "  <tbody>\n",
       "    <tr>\n",
       "      <th>magic</th>\n",
       "      <td>0.522167</td>\n",
       "      <td>0.269610</td>\n",
       "    </tr>\n",
       "    <tr>\n",
       "      <th>décevant</th>\n",
       "      <td>0.350779</td>\n",
       "      <td>0.589975</td>\n",
       "    </tr>\n",
       "    <tr>\n",
       "      <th>déçue</th>\n",
       "      <td>0.166754</td>\n",
       "      <td>-0.190010</td>\n",
       "    </tr>\n",
       "    <tr>\n",
       "      <th>spectacle</th>\n",
       "      <td>0.349472</td>\n",
       "      <td>0.722372</td>\n",
       "    </tr>\n",
       "    <tr>\n",
       "      <th>nettoyage</th>\n",
       "      <td>0.673857</td>\n",
       "      <td>0.636181</td>\n",
       "    </tr>\n",
       "    <tr>\n",
       "      <th>gâteau</th>\n",
       "      <td>0.175933</td>\n",
       "      <td>-0.219199</td>\n",
       "    </tr>\n",
       "    <tr>\n",
       "      <th>équipement</th>\n",
       "      <td>0.251658</td>\n",
       "      <td>-0.075353</td>\n",
       "    </tr>\n",
       "    <tr>\n",
       "      <th>bébé</th>\n",
       "      <td>0.277986</td>\n",
       "      <td>-0.081546</td>\n",
       "    </tr>\n",
       "    <tr>\n",
       "      <th>manquait</th>\n",
       "      <td>0.387830</td>\n",
       "      <td>-0.146902</td>\n",
       "    </tr>\n",
       "    <tr>\n",
       "      <th>personnel</th>\n",
       "      <td>3.425386</td>\n",
       "      <td>2.272157</td>\n",
       "    </tr>\n",
       "  </tbody>\n",
       "</table>\n",
       "</div>"
      ],
      "text/plain": [
       "                  V1        V2\n",
       "magic       0.522167  0.269610\n",
       "décevant    0.350779  0.589975\n",
       "déçue       0.166754 -0.190010\n",
       "spectacle   0.349472  0.722372\n",
       "nettoyage   0.673857  0.636181\n",
       "gâteau      0.175933 -0.219199\n",
       "équipement  0.251658 -0.075353\n",
       "bébé        0.277986 -0.081546\n",
       "manquait    0.387830 -0.146902\n",
       "personnel   3.425386  2.272157"
      ]
     },
     "execution_count": 242,
     "metadata": {},
     "output_type": "execute_result"
    }
   ],
   "source": [
    "#Mots-clés dégagés\n",
    "mots = ['magic','décevant','déçue','spectacle','nettoyage','gâteau','équipement', 'bébé','manquait','personnel','chambres','impossible','sommeil','dormir','conciergerie','poussière','cheveux','attention','bien','entretien','baignoire','climatisation','impeccable','propreté','emplacement','problème','sympathique','décoration','propre','attente','qualité','endroit','incroyable','buffet','accueil','attentionné']\n",
    "dfMots= df.loc[mots, :]\n",
    "dfMots.head(10)"
   ]
  },
  {
   "cell_type": "code",
   "execution_count": 222,
   "id": "f02cd894",
   "metadata": {},
   "outputs": [
    {
     "data": {
      "image/png": "[encoded data removed]",
      "text/plain": [
       "<Figure size 720x720 with 1 Axes>"
      ]
     },
     "metadata": {
      "needs_background": "light"
     },
     "output_type": "display_data"
    }
   ],
   "source": [
    "#graphique dans le plan\n",
    "\n",
    "plt.figure(figsize=(10, 10))\n",
    "for i in range(dfMots.shape[0]):\n",
    "    plt.scatter(dfMots.V1,dfMots.V2,s=30)\n",
    "    plt.annotate(dfMots.index[i],(dfMots.V1[i],dfMots.V2[i]))\n",
    "plt.show()"
   ]
  },
  {
   "cell_type": "markdown",
   "id": "15194878",
   "metadata": {},
   "source": [
    "**Interprétation du graphique : 6 zones.** \n",
    "Positif en haut à droite : personnel/chambres/buffet = bien.\n",
    "Positif en dessous : endroit incroyable, propre, qualité.\n",
    "Au centre : emplacement=problème (termes superposés).\n",
    "Au centre aussi : Accueil=attente mais aussi attention et sympatique.\n",
    "A gauche : on retrouve des pb afférents à des incidents de nettoyage : cheveux dans la baignoire, présence de poussière. Egalement, une impossibilité selon certains clients de bien dormir. Non liée à la climatisation (associée à impeccable).\n",
    "ET on retrouve le couple spectacle / décevant, et le couple décevant /poussière.\n",
    "Enfin, en bas à gauche, nous retrouvons les équipements manquants pour bébé et sur la déception isolée quant au gâteau. "
   ]
  },
  {
   "cell_type": "markdown",
   "id": "0cd3f733",
   "metadata": {},
   "source": [
    "# IV. Appel à un modèle pré-entraîné d'apprentissage des termes"
   ]
  },
  {
   "cell_type": "markdown",
   "id": "8f3eb0b2",
   "metadata": {},
   "source": [
    "Partage du code pour creuser au besoin les évocations associées des termes pour de futurs plans d'action. "
   ]
  },
  {
   "cell_type": "code",
   "execution_count": 46,
   "id": "432592d3",
   "metadata": {},
   "outputs": [
    {
     "name": "stdout",
     "output_type": "stream",
     "text": [
      "119227\n"
     ]
    }
   ],
   "source": [
    "#GitHub recommandé par R.Rakotomalala. https://fauconnier. github.io/\n",
    "#Dictionnaire généraliste avec représentation spatiale des termes\n",
    "from gensim.models import keyedvectors\n",
    "trained = keyedvectors.load_word2vec_format(\"frWac_no_postag_no_phrase_500_skip_cut100.bin\", binary=True, unicode_errors='ignore')\n",
    "print(len(trained.key_to_index))"
   ]
  },
  {
   "cell_type": "markdown",
   "id": "a01480ca",
   "metadata": {},
   "source": [
    "1 - Points forts du personnel à capitaliser (termes associés)"
   ]
  },
  {
   "cell_type": "code",
   "execution_count": 98,
   "id": "ce0718fa",
   "metadata": {},
   "outputs": [
    {
     "data": {
      "text/plain": [
       "[('nominatif', 0.32981908321380615),\n",
       " ('établissement', 0.32695937156677246),\n",
       " ('personnels', 0.32490742206573486),\n",
       " ('confidentialité', 0.2940655052661896),\n",
       " ('conformément', 0.29240378737449646)]"
      ]
     },
     "execution_count": 98,
     "metadata": {},
     "output_type": "execute_result"
    }
   ],
   "source": [
    "#selon ce modèle, quels sont les termes les plus similaires à \"personnel\"et qui sont clés (= retrait de \"manque\")?\n",
    "trained.most_similar(positive=['personnel'],negative=['manque'],topn=5)"
   ]
  },
  {
   "cell_type": "markdown",
   "id": "32d9a71c",
   "metadata": {},
   "source": [
    "2-Points forts d'un spectacle (termes associés)"
   ]
  },
  {
   "cell_type": "code",
   "execution_count": 101,
   "id": "b698dfdb",
   "metadata": {},
   "outputs": [
    {
     "data": {
      "text/plain": [
       "[('théâtre', 0.4304552674293518),\n",
       " ('spectacles', 0.42559048533439636),\n",
       " ('artiste', 0.38758954405784607),\n",
       " ('circassien', 0.3834640383720398),\n",
       " ('danse', 0.36808231472969055)]"
      ]
     },
     "execution_count": 101,
     "metadata": {},
     "output_type": "execute_result"
    }
   ],
   "source": [
    "trained.most_similar(positive=['spectacle'],negative=['décevant'],topn=5)"
   ]
  },
  {
   "cell_type": "markdown",
   "id": "da6baf89",
   "metadata": {},
   "source": [
    "# IV. Conclusion"
   ]
  },
  {
   "cell_type": "markdown",
   "id": "7e813682",
   "metadata": {},
   "source": [
    "Ce premier notebook de découverte et de test & learn de l'univers des hôtels Disney confirmerait : \n",
    "- la faisabilité de conduire les analyses sur un notebook traduit (français, langue majoritaire ; pas de différences significatives dans le présent cas - à confirmer avec les autres hôtels et parcs. Irritants liés à un incident du customer-journey,...)\n",
    "- la pertinence et la bonne maniabilité du package Word2Vec pour identifier les irritants parmi les commentaires ; voire dans le titre (synthèse du commentaire)"
   ]
  }
 ],
 "metadata": {
  "kernelspec": {
   "display_name": "Python 3 (ipykernel)",
   "language": "python",
   "name": "python3"
  },
  "language_info": {
   "codemirror_mode": {
    "name": "ipython",
    "version": 3
   },
   "file_extension": ".py",
   "mimetype": "text/x-python",
   "name": "python",
   "nbconvert_exporter": "python",
   "pygments_lexer": "ipython3",
   "version": "3.9.12"
  }
 },
 "nbformat": 4,
 "nbformat_minor": 5
}
